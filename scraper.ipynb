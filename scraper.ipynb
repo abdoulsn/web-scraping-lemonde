{
 "cells": [
  {
   "cell_type": "code",
   "execution_count": 6,
   "metadata": {},
   "outputs": [],
   "source": [
    "import ssl\n",
    "import urllib.request as web\n",
    "import newspaper as np           # /!\\ care with numpy alias\n",
    "import feedparser as fp\n",
    "import pandas as pd\n",
    "\n",
    "import os\n",
    "import json"
   ]
  },
  {
   "cell_type": "code",
   "execution_count": 2,
   "metadata": {},
   "outputs": [
    {
     "name": "stdout",
     "output_type": "stream",
     "text": [
      "  % Total    % Received % Xferd  Average Speed   Time    Time     Time  Current\n",
      "                                 Dload  Upload   Total   Spent    Left  Speed\n",
      "100 14.3M  100 14.3M    0     0  1506k      0  0:00:09  0:00:09 --:--:-- 1501k\n",
      "  % Total    % Received % Xferd  Average Speed   Time    Time     Time  Current\n",
      "                                 Dload  Upload   Total   Spent    Left  Speed\n",
      "100   916  100   916    0     0   1850      0 --:--:-- --:--:-- --:--:--  1846\n"
     ]
    }
   ],
   "source": [
    "! curl -O https://people.irisa.fr/Guillaume.Gravier/teaching/ENSAI/data/lemonde.json \n",
    "! curl -O https://people.irisa.fr/Guillaume.Gravier/teaching/ENSAI/data/sources.json"
   ]
  },
  {
   "cell_type": "code",
   "execution_count": 4,
   "metadata": {},
   "outputs": [
    {
     "data": {
      "text/plain": [
       "'/Users/abdoulayediallo/Documents/ENSAI/Cours/NLP/projets/web-scraping-lemonde'"
      ]
     },
     "execution_count": 4,
     "metadata": {},
     "output_type": "execute_result"
    }
   ],
   "source": [
    "os.getcwd()"
   ]
  },
  {
   "cell_type": "code",
   "execution_count": 3,
   "metadata": {
    "scrolled": true
   },
   "outputs": [
    {
     "name": "stdout",
     "output_type": "stream",
     "text": [
      "Marchés, Indices, matières premières, analyses de séance, Taux\n",
      " \n",
      "Wed, 03 Feb 2021 10:17:13 +0200\n",
      " \n",
      "France: l'activité du secteur privé s'est un peu moins contractée que prévu en janvier Wed, 03 Feb 2021T10:04:00 +0200 https://investir.lesechos.fr/marches/actualites/france-l-activite-du-secteur-prive-s-est-un-peu-moins-contractee-que-prevu-en-janvier-1947506.php?xtor=RSS-24\n"
     ]
    }
   ],
   "source": [
    "ssl._create_default_https_context = ssl._create_unverified_context\n",
    "\n",
    "# (b) recuperer le fichier RSS\n",
    "url = \"https://investir.lesechos.fr/RSS\"\n",
    "fn = \"info-marches-investir-bourse-les-echos.xml\"\n",
    "data = fp.parse(\"/\".join([url,fn]))\n",
    "\n",
    "# (c) visualiser les elements du fichier RSS\n",
    "print(data.feed.title)\n",
    "print(\" \")\n",
    "print(data.feed.published)\n",
    "print(\" \")\n",
    "# (d) iterer sur les entrees du flux RSS\n",
    "for item in data.entries:\n",
    "    print(item.title, item.published, item.link)\n",
    "    break"
   ]
  },
  {
   "cell_type": "markdown",
   "metadata": {},
   "source": [
    "# TODO: 1\n",
    "### Lecture de la base de donn ́ees existantes lemonde.json – regardez au passage la structure de ce fichier json et les informations qu’il contient"
   ]
  },
  {
   "cell_type": "code",
   "execution_count": 15,
   "metadata": {},
   "outputs": [
    {
     "name": "stdout",
     "output_type": "stream",
     "text": [
      "Loaded 3041 entries of lemonde\n",
      "Loaded 14 entries of source\n"
     ]
    }
   ],
   "source": [
    "with open(\"data_out/lemonde.json\", 'r') as l:\n",
    "    lemonde = json.load(l)\n",
    "\n",
    "with open(\"data_out/sources.json\", 'r') as s:\n",
    "    source = json.load(s)\n",
    "\n",
    "print('Loaded', len(lemonde), \"entries of lemonde\")\n",
    "print('Loaded', len(source), \"entries of source\")"
   ]
  },
  {
   "cell_type": "markdown",
   "metadata": {},
   "source": [
    "### Head"
   ]
  },
  {
   "cell_type": "code",
   "execution_count": 69,
   "metadata": {},
   "outputs": [
    {
     "data": {
      "text/plain": [
       "(0,\n",
       " ('https://www.lemonde.fr/international/article/2020/12/06/l-ue-met-en-place-un-nouveau-regime-de-sanctions-transversales_6062390_3210.html',\n",
       "  {'title': 'L’UE met en place un nouveau régime de sanctions transversales',\n",
       "   'date': '2020-12-06T14:00:08',\n",
       "   'author': ['Laurence Girard',\n",
       "    'Taha Oudghiri',\n",
       "    'Vice-Président De L Association Marocaine Des Économistes D Entreprises Ameen',\n",
       "    'Stéphane Foucart',\n",
       "    'Jean-Pierre Stroobants',\n",
       "    'Bruxelles',\n",
       "    'Bureau Européen'],\n",
       "   'category': 'Europe',\n",
       "   'content': 'L’opposant russe Alexeï Navalny, le 22 août 2019 à Moscou. Alexander Zemlianichenko / AP\\n\\nLe « nouveau régime de sanctions transversales » que les ministres des affaires étrangères de l’Union européenne devraient approuver lundi 7 décembre, à Bruxelles, va peut-être clore des années de discussion et ramener l’Union à son exact niveau d’ambition. Qui ne peut plus être vraiment celui du « pouvoir transformateur » dont rêvaient certains, mais celui d’un acteur de rang intermédiaire, encore capable de rappeler ses valeurs.\\n\\nLe texte ne portera pas le nom de « Magnitski », pour ne pas heurter la sensibilité prorusse de certains pays membres et pour ne pas pointer dans la seule direction de Moscou en évoquant le nom de Sergueï Magnitski, ce juriste russe mort en détention en 2009, torturé parce qu’il avait dénoncé une vaste affaire de corruption.\\n\\nEt il requerra, toujours, l’unanimité des Vingt-Sept. Officiellement pour lui conférer plus de force ; en réalité pour ne pas accroître les tensions et les divisions lorsqu’il s’agira de sanctionner les auteurs des atteintes aux droits de l’homme dans telle ou telle partie du monde.\\n\\nLire aussi La CEDH condamne lourdement la Russie dans l’affaire Magnitski\\n\\nCe ne sera donc pas entièrement un « Global Magnitsky Act », comme celui dont se sont dotés les Etats-Unis en 2016, imités ensuite par le Canada, le Royaume-Uni et les trois Etats baltes (l’Estonie, la Lettonie et la Lituanie). A savoir, des lois élargies à tous les suspects de violation des droits de l’homme – pas seulement russes – mais aussi d’actes majeurs de corruption dans le monde. En effet, même si le Parlement européen, dans une résolution votée en mars 2019, visait clairement les activités de « corruption systématique », les textes du Conseil ne retiennent apparemment pas ce point. « Faute d’une définition précise en droit international, et parce que la corruption peut être attaquée par d’autres mécanismes », indique une source.\\n\\nImpulsion décisive\\n\\nLe projet vise à punir, avec les armes traditionnelles de l’Union – pour l’essentiel, gel des avoirs, interdiction de visas et de voyages – les auteurs d’atteintes graves aux droits de l’homme. De manière « flexible » sans que leur pays soit visé. Et la liste des violations retenues est longue : crime contre l’humanité, génocide, torture, arrestations arbitraires, trafic d’êtres humains, violences sexuelles, entrave au droit de rassemblement, etc.\\n\\nInitié par les Pays-Bas en 2018, soutenu par la présidente de la Commission européenne et le haut représentant Josep Borrell, le projet a connu une impulsion décisive à la suite de la tentative d’empoisonnement de l’opposant russe Alexeï Navalny, victime d’un agent neurotoxique du groupe Novitchok en août et évacué vers l’Allemagne, où il a été soigné.\\n\\nIl vous reste 33.52% de cet article à lire. La suite est réservée aux abonnés.',\n",
       "   'image_link': 'https://img.lemde.fr/2020/11/30/241/0/4657/2326/1440/720/60/0/865142e_ef3ccc0203b4492eb3ac02ecb0450133-ef3ccc0203b4492eb3ac02ecb0450133-0.jpg',\n",
       "   'image_file': './lm-db/images/865142e_ef3ccc0203b4492eb3ac02ecb0450133-ef3ccc0203b4492eb3ac02ecb0450133-0.jpg'}))"
      ]
     },
     "execution_count": 69,
     "metadata": {},
     "output_type": "execute_result"
    }
   ],
   "source": [
    "[(k, v) for k, v in enumerate(lemonde.items())][0]"
   ]
  },
  {
   "cell_type": "code",
   "execution_count": 76,
   "metadata": {},
   "outputs": [
    {
     "data": {
      "text/plain": [
       "True"
      ]
     },
     "execution_count": 76,
     "metadata": {},
     "output_type": "execute_result"
    }
   ],
   "source": [
    "kys = []\n",
    "df = {}\n",
    "for keys, values in lemonde.items():\n",
    "    for k, v in values.items():\n",
    "        kys.append(k)\n",
    "        df[k] = v\n",
    "        \n",
    "# Sanity check\n",
    "len(kys) == len(lemonde.items())*len(set(kys))"
   ]
  },
  {
   "cell_type": "markdown",
   "metadata": {},
   "source": [
    "### Identifier les informations disponibles dans le flux RSS de l’exemple ci-dessus et les  ́el ́ements correspondants dans la structure de donn ́ees retourn ́ees par fp.parse"
   ]
  },
  {
   "cell_type": "code",
   "execution_count": 77,
   "metadata": {},
   "outputs": [
    {
     "data": {
      "text/plain": [
       "{'author', 'category', 'content', 'date', 'image_file', 'image_link', 'title'}"
      ]
     },
     "execution_count": 77,
     "metadata": {},
     "output_type": "execute_result"
    }
   ],
   "source": [
    "set(kys)"
   ]
  },
  {
   "cell_type": "markdown",
   "metadata": {},
   "source": [
    "# pour chacun des flux RSS listés dans le fichier sources.json :\n",
    "\n",
    "### – Lire les données du flux RSS\n",
    "### – Scanner les articles et rep ́erer ceux qui ne sont pas deja présent dans la base de données"
   ]
  },
  {
   "cell_type": "code",
   "execution_count": 196,
   "metadata": {
    "scrolled": false
   },
   "outputs": [],
   "source": [
    "links = []\n",
    "for category, url in source.items():\n",
    "    sources = fp.parse(url)\n",
    "    for items in sources.entries:\n",
    "        links.append(items.get(\"id\"))\n",
    "links = set(links)"
   ]
  },
  {
   "cell_type": "code",
   "execution_count": 174,
   "metadata": {},
   "outputs": [
    {
     "data": {
      "text/plain": [
       "'https://www.lemonde.fr/international/article/2021/02/03/en-australie-au-moins-71-habitations-detruites-pres-de-perth-dans-un-incendie_6068573_3210.html'"
      ]
     },
     "execution_count": 174,
     "metadata": {},
     "output_type": "execute_result"
    }
   ],
   "source": [
    "next(iter(links))"
   ]
  },
  {
   "cell_type": "markdown",
   "metadata": {},
   "source": [
    "### Récupération des articles"
   ]
  },
  {
   "cell_type": "code",
   "execution_count": 204,
   "metadata": {},
   "outputs": [
    {
     "name": "stdout",
     "output_type": "stream",
     "text": [
      "(2034, 6)\n"
     ]
    },
    {
     "data": {
      "text/plain": [
       "(238, 7)"
      ]
     },
     "execution_count": 204,
     "metadata": {},
     "output_type": "execute_result"
    }
   ],
   "source": [
    "# init data storage\n",
    "dico = {}\n",
    "data = pd.DataFrame()\n",
    "\n",
    "for link in links:\n",
    "    article = np.Article(link)\n",
    "    article.download()\n",
    "    article.parse()\n",
    "    article.article.article_wr\n",
    "    dico[\"source\"] = link\n",
    "    dico[\"publish_date\"] = article.publish_date\n",
    "    dico[\"title\"] = article.title\n",
    "    dico[\"authors\"] = article.authors\n",
    "    dico[\"text\"] = article.text\n",
    "    dico[\"image\"] = article.top_image\n",
    "    temp = pd.DataFrame(dico)\n",
    "    \n",
    "    data = data.append(temp)\n",
    "    \n",
    "# clean\n",
    "data.shape\n",
    "data.drop_duplicates(subset=['source'], inplace=True)\n",
    "data.reset_index(inplace=True)\n",
    "data.shape"
   ]
  },
  {
   "cell_type": "code",
   "execution_count": 205,
   "metadata": {},
   "outputs": [
    {
     "data": {
      "text/plain": [
       "True"
      ]
     },
     "execution_count": 205,
     "metadata": {},
     "output_type": "execute_result"
    }
   ],
   "source": [
    "# Sanity checker\n",
    "data.shape[0] == len(links)"
   ]
  },
  {
   "cell_type": "markdown",
   "metadata": {},
   "source": [
    "# TODO: 2\n",
    "- Pour l’un des articles de votre flux RSS, regardez le code HTML de la page web. Pouvez-vous identifier les zones contenant le titre de l’article ? le texte de l’article ? En quoi le recours à la librairie newspaper3k est-il utile ? Quelles informations peut-on ainsi r ́ecup ́erer concernant un article ?"
   ]
  },
  {
   "cell_type": "markdown",
   "metadata": {},
   "source": [
    "**Réponse:** \n",
    "- Le title est. dans `class=\"article__heading\"`\n",
    "- le text est dans `class=\"article__wrapper \"`\n",
    "\n",
    "On peut récupere le caption des images dans `class=\"article__legend\"`et le temps de lecture ncessaire dans `class=\"meta__reading-time meta__reading-time--header\"`"
   ]
  },
  {
   "cell_type": "code",
   "execution_count": 219,
   "metadata": {},
   "outputs": [],
   "source": [
    "def scraper(sources, df, **dico):\n",
    "    \"\"\" Docs\n",
    "    Input:\n",
    "    ------\n",
    "    Source: json file containing \n",
    "    \n",
    "    Output:\n",
    "    -------\n",
    "    \"\"\"\n",
    "    links = []\n",
    "    for category, url in sources.items():\n",
    "        sources = fp.parse(url)\n",
    "        for items in sources.entries:\n",
    "            links.append(items.get(\"id\"))\n",
    "    links = set(links)\n",
    "    # remove from here dup links\n",
    "    for link in links:\n",
    "        article = np.Article(link)\n",
    "        article.download()\n",
    "        article.parse()\n",
    "        dico[\"liens\"] = link\n",
    "        dico[\"title\"] = article.title\n",
    "        dico[\"text\"] = article.text\n",
    "        dico[\"image\"] = article.top_image\n",
    "        temp = pd.DataFrame(dico, index=range(0,len(links)))\n",
    "        df = df.append(temp)\n",
    "    df.drop_duplicates(subset=['liens'], inplace=True) \n",
    "    df.reset_index(inplace=True)\n",
    "    \n",
    "    return df"
   ]
  },
  {
   "cell_type": "code",
   "execution_count": 220,
   "metadata": {},
   "outputs": [
    {
     "data": {
      "text/html": [
       "<div>\n",
       "<style scoped>\n",
       "    .dataframe tbody tr th:only-of-type {\n",
       "        vertical-align: middle;\n",
       "    }\n",
       "\n",
       "    .dataframe tbody tr th {\n",
       "        vertical-align: top;\n",
       "    }\n",
       "\n",
       "    .dataframe thead th {\n",
       "        text-align: right;\n",
       "    }\n",
       "</style>\n",
       "<table border=\"1\" class=\"dataframe\">\n",
       "  <thead>\n",
       "    <tr style=\"text-align: right;\">\n",
       "      <th></th>\n",
       "      <th>index</th>\n",
       "      <th>liens</th>\n",
       "      <th>title</th>\n",
       "      <th>text</th>\n",
       "      <th>image</th>\n",
       "    </tr>\n",
       "  </thead>\n",
       "  <tbody>\n",
       "    <tr>\n",
       "      <th>0</th>\n",
       "      <td>0</td>\n",
       "      <td>https://www.lemonde.fr/international/article/2...</td>\n",
       "      <td>En Australie, au moins 71 habitations détruite...</td>\n",
       "      <td>Les pompiers affrontent un incendie à Wooroloo...</td>\n",
       "      <td>https://img.lemde.fr/2021/02/02/249/0/3000/150...</td>\n",
       "    </tr>\n",
       "    <tr>\n",
       "      <th>1</th>\n",
       "      <td>0</td>\n",
       "      <td>https://www.lemonde.fr/politique/article/2021/...</td>\n",
       "      <td>Covid-19 : Emmanuel Macron veut rassurer à pro...</td>\n",
       "      <td>Emmanuel Macron au palais de l’Elysée à Paris,...</td>\n",
       "      <td>https://img.lemde.fr/2021/02/02/0/0/8191/4091/...</td>\n",
       "    </tr>\n",
       "    <tr>\n",
       "      <th>2</th>\n",
       "      <td>0</td>\n",
       "      <td>https://www.lemonde.fr/economie/article/2021/0...</td>\n",
       "      <td>Chacun peut désormais noter son agence bancair...</td>\n",
       "      <td>A Paris. LOIC VENANCE / AFP\\n\\nLa folie de la ...</td>\n",
       "      <td>https://img.lemde.fr/2021/02/03/364/0/4368/218...</td>\n",
       "    </tr>\n",
       "    <tr>\n",
       "      <th>3</th>\n",
       "      <td>0</td>\n",
       "      <td>https://www.lemonde.fr/idees/article/2021/02/0...</td>\n",
       "      <td>« Navalny, Blinken, Merkel et le gaz russe »</td>\n",
       "      <td>Chronique. En 1987, un jeune et brillant diplô...</td>\n",
       "      <td>https://img.lemde.fr/2021/01/26/308/0/3500/175...</td>\n",
       "    </tr>\n",
       "    <tr>\n",
       "      <th>4</th>\n",
       "      <td>0</td>\n",
       "      <td>https://www.lemonde.fr/economie/article/2021/0...</td>\n",
       "      <td>Fin de la précarité pour les femmes de chambre...</td>\n",
       "      <td>Une femme de chambre prépare une chambre d’hôt...</td>\n",
       "      <td>https://img.lemde.fr/2021/02/03/165/0/6016/300...</td>\n",
       "    </tr>\n",
       "    <tr>\n",
       "      <th>...</th>\n",
       "      <td>...</td>\n",
       "      <td>...</td>\n",
       "      <td>...</td>\n",
       "      <td>...</td>\n",
       "      <td>...</td>\n",
       "    </tr>\n",
       "    <tr>\n",
       "      <th>234</th>\n",
       "      <td>0</td>\n",
       "      <td>https://www.lemonde.fr/idees/article/2021/02/0...</td>\n",
       "      <td>« La France est aujourd’hui un pays de seconde...</td>\n",
       "      <td>Tribune. Tous les économistes reconnaissent qu...</td>\n",
       "      <td>https://img.lemde.fr/2021/01/28/911/0/5625/280...</td>\n",
       "    </tr>\n",
       "    <tr>\n",
       "      <th>235</th>\n",
       "      <td>0</td>\n",
       "      <td>https://www.lemonde.fr/sport/article/2021/02/0...</td>\n",
       "      <td>Football : huit personnes placées en détention...</td>\n",
       "      <td>Les services de police chiffrent à trois cents...</td>\n",
       "      <td>https://img.lemde.fr/2021/01/31/391/0/4692/234...</td>\n",
       "    </tr>\n",
       "    <tr>\n",
       "      <th>236</th>\n",
       "      <td>0</td>\n",
       "      <td>https://www.lemonde.fr/politique/article/2021/...</td>\n",
       "      <td>Face aux polémiques, Gérald Darmanin tente d’a...</td>\n",
       "      <td>Gérald Darmanin lors d’une intervention de Jea...</td>\n",
       "      <td>https://img.lemde.fr/2021/01/27/571/0/6848/342...</td>\n",
       "    </tr>\n",
       "    <tr>\n",
       "      <th>237</th>\n",
       "      <td>0</td>\n",
       "      <td>https://www.lemonde.fr/planete/article/2021/01...</td>\n",
       "      <td>Covid-19 dans le monde : AstraZeneca devrait l...</td>\n",
       "      <td>Manifestation contre les mesures sanitaires à ...</td>\n",
       "      <td>https://img.lemde.fr/2021/01/22/75/0/3236/1615...</td>\n",
       "    </tr>\n",
       "    <tr>\n",
       "      <th>238</th>\n",
       "      <td>0</td>\n",
       "      <td>https://www.lemonde.fr/idees/article/2021/02/0...</td>\n",
       "      <td>« La suspension des comptes de Donald Trump su...</td>\n",
       "      <td>Chronique. C’est une réaction à courte vue, po...</td>\n",
       "      <td>https://img.lemde.fr/2021/01/09/119/0/3500/175...</td>\n",
       "    </tr>\n",
       "  </tbody>\n",
       "</table>\n",
       "<p>239 rows × 5 columns</p>\n",
       "</div>"
      ],
      "text/plain": [
       "     index                                              liens  \\\n",
       "0        0  https://www.lemonde.fr/international/article/2...   \n",
       "1        0  https://www.lemonde.fr/politique/article/2021/...   \n",
       "2        0  https://www.lemonde.fr/economie/article/2021/0...   \n",
       "3        0  https://www.lemonde.fr/idees/article/2021/02/0...   \n",
       "4        0  https://www.lemonde.fr/economie/article/2021/0...   \n",
       "..     ...                                                ...   \n",
       "234      0  https://www.lemonde.fr/idees/article/2021/02/0...   \n",
       "235      0  https://www.lemonde.fr/sport/article/2021/02/0...   \n",
       "236      0  https://www.lemonde.fr/politique/article/2021/...   \n",
       "237      0  https://www.lemonde.fr/planete/article/2021/01...   \n",
       "238      0  https://www.lemonde.fr/idees/article/2021/02/0...   \n",
       "\n",
       "                                                 title  \\\n",
       "0    En Australie, au moins 71 habitations détruite...   \n",
       "1    Covid-19 : Emmanuel Macron veut rassurer à pro...   \n",
       "2    Chacun peut désormais noter son agence bancair...   \n",
       "3         « Navalny, Blinken, Merkel et le gaz russe »   \n",
       "4    Fin de la précarité pour les femmes de chambre...   \n",
       "..                                                 ...   \n",
       "234  « La France est aujourd’hui un pays de seconde...   \n",
       "235  Football : huit personnes placées en détention...   \n",
       "236  Face aux polémiques, Gérald Darmanin tente d’a...   \n",
       "237  Covid-19 dans le monde : AstraZeneca devrait l...   \n",
       "238  « La suspension des comptes de Donald Trump su...   \n",
       "\n",
       "                                                  text  \\\n",
       "0    Les pompiers affrontent un incendie à Wooroloo...   \n",
       "1    Emmanuel Macron au palais de l’Elysée à Paris,...   \n",
       "2    A Paris. LOIC VENANCE / AFP\\n\\nLa folie de la ...   \n",
       "3    Chronique. En 1987, un jeune et brillant diplô...   \n",
       "4    Une femme de chambre prépare une chambre d’hôt...   \n",
       "..                                                 ...   \n",
       "234  Tribune. Tous les économistes reconnaissent qu...   \n",
       "235  Les services de police chiffrent à trois cents...   \n",
       "236  Gérald Darmanin lors d’une intervention de Jea...   \n",
       "237  Manifestation contre les mesures sanitaires à ...   \n",
       "238  Chronique. C’est une réaction à courte vue, po...   \n",
       "\n",
       "                                                 image  \n",
       "0    https://img.lemde.fr/2021/02/02/249/0/3000/150...  \n",
       "1    https://img.lemde.fr/2021/02/02/0/0/8191/4091/...  \n",
       "2    https://img.lemde.fr/2021/02/03/364/0/4368/218...  \n",
       "3    https://img.lemde.fr/2021/01/26/308/0/3500/175...  \n",
       "4    https://img.lemde.fr/2021/02/03/165/0/6016/300...  \n",
       "..                                                 ...  \n",
       "234  https://img.lemde.fr/2021/01/28/911/0/5625/280...  \n",
       "235  https://img.lemde.fr/2021/01/31/391/0/4692/234...  \n",
       "236  https://img.lemde.fr/2021/01/27/571/0/6848/342...  \n",
       "237  https://img.lemde.fr/2021/01/22/75/0/3236/1615...  \n",
       "238  https://img.lemde.fr/2021/01/09/119/0/3500/175...  \n",
       "\n",
       "[239 rows x 5 columns]"
      ]
     },
     "execution_count": 220,
     "metadata": {},
     "output_type": "execute_result"
    }
   ],
   "source": [
    "df = pd.DataFrame()\n",
    "tmp = scraper(source, df)\n",
    "tmp"
   ]
  },
  {
   "cell_type": "code",
   "execution_count": null,
   "metadata": {},
   "outputs": [],
   "source": []
  }
 ],
 "metadata": {
  "kernelspec": {
   "display_name": "Python 3",
   "language": "python",
   "name": "python3"
  },
  "language_info": {
   "codemirror_mode": {
    "name": "ipython",
    "version": 3
   },
   "file_extension": ".py",
   "mimetype": "text/x-python",
   "name": "python",
   "nbconvert_exporter": "python",
   "pygments_lexer": "ipython3",
   "version": "3.8.1"
  }
 },
 "nbformat": 4,
 "nbformat_minor": 1
}
