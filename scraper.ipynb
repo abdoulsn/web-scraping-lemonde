{
 "cells": [
  {
   "cell_type": "code",
   "execution_count": 6,
   "metadata": {},
   "outputs": [],
   "source": [
    "import ssl\n",
    "import urllib.request as web\n",
    "import newspaper as np           # /!\\ care with numpy alias\n",
    "import feedparser as fp\n",
    "import pandas as pd\n",
    "\n",
    "import os\n",
    "import json"
   ]
  },
  {
   "cell_type": "code",
   "execution_count": 2,
   "metadata": {},
   "outputs": [
    {
     "name": "stdout",
     "output_type": "stream",
     "text": [
      "  % Total    % Received % Xferd  Average Speed   Time    Time     Time  Current\n",
      "                                 Dload  Upload   Total   Spent    Left  Speed\n",
      "100 14.3M  100 14.3M    0     0  1506k      0  0:00:09  0:00:09 --:--:-- 1501k\n",
      "  % Total    % Received % Xferd  Average Speed   Time    Time     Time  Current\n",
      "                                 Dload  Upload   Total   Spent    Left  Speed\n",
      "100   916  100   916    0     0   1850      0 --:--:-- --:--:-- --:--:--  1846\n"
     ]
    }
   ],
   "source": [
    "! curl -O https://people.irisa.fr/Guillaume.Gravier/teaching/ENSAI/data/lemonde.json \n",
    "! curl -O https://people.irisa.fr/Guillaume.Gravier/teaching/ENSAI/data/sources.json"
   ]
  },
  {
   "cell_type": "code",
   "execution_count": 4,
   "metadata": {},
   "outputs": [
    {
     "data": {
      "text/plain": [
       "'/Users/abdoulayediallo/Documents/ENSAI/Cours/NLP/projets/web-scraping-lemonde'"
      ]
     },
     "execution_count": 4,
     "metadata": {},
     "output_type": "execute_result"
    }
   ],
   "source": [
    "os.getcwd()"
   ]
  },
  {
   "cell_type": "code",
   "execution_count": 3,
   "metadata": {
    "scrolled": true
   },
   "outputs": [
    {
     "name": "stdout",
     "output_type": "stream",
     "text": [
      "Marchés, Indices, matières premières, analyses de séance, Taux\n",
      " \n",
      "Wed, 03 Feb 2021 10:17:13 +0200\n",
      " \n",
      "France: l'activité du secteur privé s'est un peu moins contractée que prévu en janvier Wed, 03 Feb 2021T10:04:00 +0200 https://investir.lesechos.fr/marches/actualites/france-l-activite-du-secteur-prive-s-est-un-peu-moins-contractee-que-prevu-en-janvier-1947506.php?xtor=RSS-24\n"
     ]
    }
   ],
   "source": [
    "ssl._create_default_https_context = ssl._create_unverified_context\n",
    "\n",
    "# (b) recuperer le fichier RSS\n",
    "url = \"https://investir.lesechos.fr/RSS\"\n",
    "fn = \"info-marches-investir-bourse-les-echos.xml\"\n",
    "data = fp.parse(\"/\".join([url,fn]))\n",
    "\n",
    "# (c) visualiser les elements du fichier RSS\n",
    "print(data.feed.title)\n",
    "print(\" \")\n",
    "print(data.feed.published)\n",
    "print(\" \")\n",
    "# (d) iterer sur les entrees du flux RSS\n",
    "for item in data.entries:\n",
    "    print(item.title, item.published, item.link)\n",
    "    break"
   ]
  },
  {
   "cell_type": "markdown",
   "metadata": {},
   "source": [
    "# TODO: 1\n",
    "### Lecture de la base de donn ́ees existantes lemonde.json – regardez au passage la structure de ce fichier json et les informations qu’il contient"
   ]
  },
  {
   "cell_type": "code",
   "execution_count": 15,
   "metadata": {},
   "outputs": [
    {
     "name": "stdout",
     "output_type": "stream",
     "text": [
      "Loaded 3041 entries of lemonde\n",
      "Loaded 14 entries of source\n"
     ]
    }
   ],
   "source": [
    "with open(\"data_out/lemonde.json\", 'r') as l:\n",
    "    lemonde = json.load(l)\n",
    "\n",
    "with open(\"data_out/sources.json\", 'r') as s:\n",
    "    source = json.load(s)\n",
    "\n",
    "print('Loaded', len(lemonde), \"entries of lemonde\")\n",
    "print('Loaded', len(source), \"entries of source\")"
   ]
  },
  {
   "cell_type": "markdown",
   "metadata": {},
   "source": [
    "### Head"
   ]
  },
  {
   "cell_type": "code",
   "execution_count": 69,
   "metadata": {},
   "outputs": [
    {
     "data": {
      "text/plain": [
       "(0,\n",
       " ('https://www.lemonde.fr/international/article/2020/12/06/l-ue-met-en-place-un-nouveau-regime-de-sanctions-transversales_6062390_3210.html',\n",
       "  {'title': 'L’UE met en place un nouveau régime de sanctions transversales',\n",
       "   'date': '2020-12-06T14:00:08',\n",
       "   'author': ['Laurence Girard',\n",
       "    'Taha Oudghiri',\n",
       "    'Vice-Président De L Association Marocaine Des Économistes D Entreprises Ameen',\n",
       "    'Stéphane Foucart',\n",
       "    'Jean-Pierre Stroobants',\n",
       "    'Bruxelles',\n",
       "    'Bureau Européen'],\n",
       "   'category': 'Europe',\n",
       "   'content': 'L’opposant russe Alexeï Navalny, le 22 août 2019 à Moscou. Alexander Zemlianichenko / AP\\n\\nLe « nouveau régime de sanctions transversales » que les ministres des affaires étrangères de l’Union européenne devraient approuver lundi 7 décembre, à Bruxelles, va peut-être clore des années de discussion et ramener l’Union à son exact niveau d’ambition. Qui ne peut plus être vraiment celui du « pouvoir transformateur » dont rêvaient certains, mais celui d’un acteur de rang intermédiaire, encore capable de rappeler ses valeurs.\\n\\nLe texte ne portera pas le nom de « Magnitski », pour ne pas heurter la sensibilité prorusse de certains pays membres et pour ne pas pointer dans la seule direction de Moscou en évoquant le nom de Sergueï Magnitski, ce juriste russe mort en détention en 2009, torturé parce qu’il avait dénoncé une vaste affaire de corruption.\\n\\nEt il requerra, toujours, l’unanimité des Vingt-Sept. Officiellement pour lui conférer plus de force ; en réalité pour ne pas accroître les tensions et les divisions lorsqu’il s’agira de sanctionner les auteurs des atteintes aux droits de l’homme dans telle ou telle partie du monde.\\n\\nLire aussi La CEDH condamne lourdement la Russie dans l’affaire Magnitski\\n\\nCe ne sera donc pas entièrement un « Global Magnitsky Act », comme celui dont se sont dotés les Etats-Unis en 2016, imités ensuite par le Canada, le Royaume-Uni et les trois Etats baltes (l’Estonie, la Lettonie et la Lituanie). A savoir, des lois élargies à tous les suspects de violation des droits de l’homme – pas seulement russes – mais aussi d’actes majeurs de corruption dans le monde. En effet, même si le Parlement européen, dans une résolution votée en mars 2019, visait clairement les activités de « corruption systématique », les textes du Conseil ne retiennent apparemment pas ce point. « Faute d’une définition précise en droit international, et parce que la corruption peut être attaquée par d’autres mécanismes », indique une source.\\n\\nImpulsion décisive\\n\\nLe projet vise à punir, avec les armes traditionnelles de l’Union – pour l’essentiel, gel des avoirs, interdiction de visas et de voyages – les auteurs d’atteintes graves aux droits de l’homme. De manière « flexible » sans que leur pays soit visé. Et la liste des violations retenues est longue : crime contre l’humanité, génocide, torture, arrestations arbitraires, trafic d’êtres humains, violences sexuelles, entrave au droit de rassemblement, etc.\\n\\nInitié par les Pays-Bas en 2018, soutenu par la présidente de la Commission européenne et le haut représentant Josep Borrell, le projet a connu une impulsion décisive à la suite de la tentative d’empoisonnement de l’opposant russe Alexeï Navalny, victime d’un agent neurotoxique du groupe Novitchok en août et évacué vers l’Allemagne, où il a été soigné.\\n\\nIl vous reste 33.52% de cet article à lire. La suite est réservée aux abonnés.',\n",
       "   'image_link': 'https://img.lemde.fr/2020/11/30/241/0/4657/2326/1440/720/60/0/865142e_ef3ccc0203b4492eb3ac02ecb0450133-ef3ccc0203b4492eb3ac02ecb0450133-0.jpg',\n",
       "   'image_file': './lm-db/images/865142e_ef3ccc0203b4492eb3ac02ecb0450133-ef3ccc0203b4492eb3ac02ecb0450133-0.jpg'}))"
      ]
     },
     "execution_count": 69,
     "metadata": {},
     "output_type": "execute_result"
    }
   ],
   "source": [
    "[(k, v) for k, v in enumerate(lemonde.items())][0]"
   ]
  },
  {
   "cell_type": "code",
   "execution_count": 76,
   "metadata": {},
   "outputs": [
    {
     "data": {
      "text/plain": [
       "True"
      ]
     },
     "execution_count": 76,
     "metadata": {},
     "output_type": "execute_result"
    }
   ],
   "source": [
    "kys = []\n",
    "df = {}\n",
    "for keys, values in lemonde.items():\n",
    "    for k, v in values.items():\n",
    "        kys.append(k)\n",
    "        df[k] = v\n",
    "        \n",
    "# Sanity check\n",
    "len(kys) == len(lemonde.items())*len(set(kys))"
   ]
  },
  {
   "cell_type": "markdown",
   "metadata": {},
   "source": [
    "### Identifier les informations disponibles dans le flux RSS de l’exemple ci-dessus et les  ́el ́ements correspondants dans la structure de donn ́ees retourn ́ees par fp.parse"
   ]
  },
  {
   "cell_type": "code",
   "execution_count": 77,
   "metadata": {},
   "outputs": [
    {
     "data": {
      "text/plain": [
       "{'author', 'category', 'content', 'date', 'image_file', 'image_link', 'title'}"
      ]
     },
     "execution_count": 77,
     "metadata": {},
     "output_type": "execute_result"
    }
   ],
   "source": [
    "set(kys)"
   ]
  },
  {
   "cell_type": "markdown",
   "metadata": {},
   "source": [
    "# pour chacun des flux RSS listés dans le fichier sources.json :\n",
    "\n",
    "### – Lire les données du flux RSS\n",
    "### – Scanner les articles et rep ́erer ceux qui ne sont pas deja présent dans la base de données"
   ]
  },
  {
   "cell_type": "code",
   "execution_count": 196,
   "metadata": {
    "scrolled": false
   },
   "outputs": [],
   "source": [
    "links = []\n",
    "for category, url in source.items():\n",
    "    sources = fp.parse(url)\n",
    "    for items in sources.entries:\n",
    "        links.append(items.get(\"id\"))\n",
    "links = set(links)"
   ]
  },
  {
   "cell_type": "code",
   "execution_count": 174,
   "metadata": {},
   "outputs": [
    {
     "data": {
      "text/plain": [
       "'https://www.lemonde.fr/international/article/2021/02/03/en-australie-au-moins-71-habitations-detruites-pres-de-perth-dans-un-incendie_6068573_3210.html'"
      ]
     },
     "execution_count": 174,
     "metadata": {},
     "output_type": "execute_result"
    }
   ],
   "source": [
    "next(iter(links))"
   ]
  },
  {
   "cell_type": "markdown",
   "metadata": {},
   "source": [
    "### Récupération des articles"
   ]
  },
  {
   "cell_type": "code",
   "execution_count": 204,
   "metadata": {},
   "outputs": [
    {
     "name": "stdout",
     "output_type": "stream",
     "text": [
      "(2034, 6)\n"
     ]
    },
    {
     "data": {
      "text/plain": [
       "(238, 7)"
      ]
     },
     "execution_count": 204,
     "metadata": {},
     "output_type": "execute_result"
    }
   ],
   "source": [
    "# init data storage\n",
    "dico = {}\n",
    "data = pd.DataFrame()\n",
    "\n",
    "for link in links:\n",
    "    article = np.Article(link)\n",
    "    article.download()\n",
    "    article.parse()\n",
    "    article.article.article_wr\n",
    "    dico[\"source\"] = link\n",
    "    dico[\"publish_date\"] = article.publish_date\n",
    "    dico[\"title\"] = article.title\n",
    "    dico[\"authors\"] = article.authors\n",
    "    dico[\"text\"] = article.text\n",
    "    dico[\"image\"] = article.top_image\n",
    "    temp = pd.DataFrame(dico)\n",
    "    \n",
    "    data = data.append(temp)\n",
    "    \n",
    "# clean\n",
    "data.shape\n",
    "data.drop_duplicates(subset=['source'], inplace=True)\n",
    "data.reset_index(inplace=True)\n",
    "data.shape"
   ]
  },
  {
   "cell_type": "code",
   "execution_count": 205,
   "metadata": {},
   "outputs": [
    {
     "data": {
      "text/plain": [
       "True"
      ]
     },
     "execution_count": 205,
     "metadata": {},
     "output_type": "execute_result"
    }
   ],
   "source": [
    "# Sanity checker\n",
    "data.shape[0] == len(links)"
   ]
  },
  {
   "cell_type": "markdown",
   "metadata": {},
   "source": [
    "# TODO: 2\n",
    "- Pour l’un des articles de votre flux RSS, regardez le code HTML de la page web. Pouvez-vous identifier les zones contenant le titre de l’article ? le texte de l’article ? En quoi le recours à la librairie newspaper3k est-il utile ? Quelles informations peut-on ainsi r ́ecup ́erer concernant un article ?"
   ]
  },
  {
   "cell_type": "markdown",
   "metadata": {},
   "source": [
    "**Réponse:** \n",
    "- Le title est. dans `class=\"article__heading\"`\n",
    "- le text est dans `class=\"article__wrapper \"`\n",
    "\n",
    "On peut récupere le caption des images dans `class=\"article__legend\"`et le temps de lecture ncessaire dans `class=\"meta__reading-time meta__reading-time--header\"`"
   ]
  },
  {
   "cell_type": "code",
   "execution_count": 206,
   "metadata": {},
   "outputs": [],
   "source": [
    "def scraper(sources, df):\n",
    "    \"\"\" Docs\n",
    "    Input:\n",
    "    ------\n",
    "    \n",
    "    Output:\n",
    "    -------\n",
    "    \"\"\"\n",
    "    links = []\n",
    "    for category, url in sources.items():\n",
    "        sources = fp.parse(url)\n",
    "        for items in sources.entries:\n",
    "            links.append(items.get(\"id\"))\n",
    "    links = set(links)\n",
    "    \n",
    "    dico = {}\n",
    "    df = pd.DataFrame()\n",
    "    for link in links:\n",
    "        article = np.Article(link)\n",
    "        article.download()\n",
    "        article.parse()\n",
    "        dico[\"title\"] = article.title\n",
    "        dico[\"text\"] = article.text\n",
    "        dico[\"image\"] = article.top_image\n",
    "        temp = pd.DataFrame(dico)\n",
    "        df = df.append(temp)\n",
    "    df.drop_duplicates(subset=['source'], inplace=True)\n",
    "    df.reset_index(inplace=True)\n",
    "    return df"
   ]
  },
  {
   "cell_type": "code",
   "execution_count": 208,
   "metadata": {},
   "outputs": [
    {
     "data": {
      "text/plain": [
       "{'Europe': 'https://www.lemonde.fr/europe/rss_full.xml',\n",
       " 'Amériques': 'https://www.lemonde.fr/ameriques/rss_full.xml',\n",
       " 'Afrique': 'https://www.lemonde.fr/afrique/rss_full.xml',\n",
       " 'Asie-Pacifique': 'https://www.lemonde.fr/asie-pacifique/rss_full.xml',\n",
       " 'Proche-Orient': 'https://www.lemonde.fr/proche-orient/rss_full.xml',\n",
       " 'Royaume-Uni': 'https://www.lemonde.fr/royaume-uni/rss_full.xml',\n",
       " 'Etats-Unis': 'https://www.lemonde.fr/etats-unis/rss_full.xml',\n",
       " 'Politique': 'https://www.lemonde.fr/politique/rss_full.xml',\n",
       " 'Société': 'https://www.lemonde.fr/societe/rss_full.xml',\n",
       " 'Justice': 'https://www.lemonde.fr/justice/rss_full.xml',\n",
       " 'Education': 'https://www.lemonde.fr/education/rss_full.xml',\n",
       " 'Entreprises': 'https://www.lemonde.fr/entreprises/rss_full.xml',\n",
       " 'Economie française': 'https://www.lemonde.fr/economie-francaise/rss_full.xml',\n",
       " 'Industrie': 'https://www.lemonde.fr/industrie/rss_full.xml'}"
      ]
     },
     "execution_count": 208,
     "metadata": {},
     "output_type": "execute_result"
    }
   ],
   "source": [
    "source"
   ]
  },
  {
   "cell_type": "code",
   "execution_count": null,
   "metadata": {},
   "outputs": [],
   "source": []
  }
 ],
 "metadata": {
  "kernelspec": {
   "display_name": "Python 3",
   "language": "python",
   "name": "python3"
  },
  "language_info": {
   "codemirror_mode": {
    "name": "ipython",
    "version": 3
   },
   "file_extension": ".py",
   "mimetype": "text/x-python",
   "name": "python",
   "nbconvert_exporter": "python",
   "pygments_lexer": "ipython3",
   "version": "3.8.1"
  }
 },
 "nbformat": 4,
 "nbformat_minor": 1
}
