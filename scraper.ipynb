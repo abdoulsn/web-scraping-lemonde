{
 "cells": [
  {
   "cell_type": "code",
   "execution_count": 1,
   "metadata": {
    "pycharm": {
     "is_executing": true
    }
   },
   "outputs": [],
   "source": [
    "import ssl\n",
    "import urllib.request as web\n",
    "import newspaper as np           # /!\\ care with numpy alias\n",
    "import feedparser as fp\n",
    "import pandas as pd\n",
    "\n",
    "import os\n",
    "import json"
   ]
  },
  {
   "cell_type": "code",
   "execution_count": 4,
   "metadata": {},
   "outputs": [
    {
     "name": "stdout",
     "output_type": "stream",
     "text": [
      "  % Total    % Received % Xferd  Average Speed   Time    Time     Time  Current\n",
      "                                 Dload  Upload   Total   Spent    Left  Speed\n",
      "100 14.3M  100 14.3M    0     0   926k      0  0:00:15  0:00:15 --:--:--  965k0:00:08  0:00:08  986k5  0:00:13  0:00:02 1033k\n",
      "  % Total    % Received % Xferd  Average Speed   Time    Time     Time  Current\n",
      "                                 Dload  Upload   Total   Spent    Left  Speed\n",
      "100   916  100   916    0     0   2726      0 --:--:-- --:--:-- --:--:--  2726\n"
     ]
    }
   ],
   "source": [
    "! curl -O https://people.irisa.fr/Guillaume.Gravier/teaching/ENSAI/data/lemonde.json \n",
    "! curl -O https://people.irisa.fr/Guillaume.Gravier/teaching/ENSAI/data/sources.json"
   ]
  },
  {
   "cell_type": "code",
   "execution_count": 2,
   "metadata": {},
   "outputs": [
    {
     "data": {
      "text/plain": [
       "'/Users/abdoulayediallo/Documents/ENSAI/Cours/NLP/projets/web-scraping-lemonde'"
      ]
     },
     "execution_count": 2,
     "metadata": {},
     "output_type": "execute_result"
    }
   ],
   "source": [
    "os.getcwd()"
   ]
  },
  {
   "cell_type": "code",
   "execution_count": 6,
   "metadata": {
    "scrolled": true
   },
   "outputs": [
    {
     "name": "stdout",
     "output_type": "stream",
     "text": [
      "Marchés, Indices, matières premières, analyses de séance, Taux\n",
      " \n",
      "Wed, 03 Feb 2021 17:54:37 +0200\n",
      " \n",
      "Paris Clôture : Le Cac 40 a été éclipsé par Mario Draghi, chargé de former un gouvernement en Italie Wed, 03 Feb 2021T17:40:00 +0200 https://investir.lesechos.fr/marches/actualites/le-cac-40-a-ete-eclipse-par-draghi-charge-de-former-un-gouvernement-en-italie-1947597.php?xtor=RSS-24\n"
     ]
    }
   ],
   "source": [
    "ssl._create_default_https_context = ssl._create_unverified_context\n",
    "\n",
    "# (b) recuperer le fichier RSS\n",
    "url = \"https://investir.lesechos.fr/RSS\"\n",
    "fn = \"info-marches-investir-bourse-les-echos.xml\"\n",
    "data = fp.parse(\"/\".join([url,fn]))\n",
    "\n",
    "# (c) visualiser les elements du fichier RSS\n",
    "print(data.feed.title)\n",
    "print(\" \")\n",
    "print(data.feed.published)\n",
    "print(\" \")\n",
    "# (d) iterer sur les entrees du flux RSS\n",
    "for item in data.entries:\n",
    "    print(item.title, item.published, item.link)\n",
    "    break"
   ]
  },
  {
   "cell_type": "markdown",
   "metadata": {},
   "source": [
    "# TODO:\n",
    "## 1 Data load and basic exploration\n",
    "    - Lecture de la base de données existantes lemonde.json\n",
    "    – regardez au passage la structure de ce fichier json et les informations qu’il contient"
   ]
  },
  {
   "cell_type": "code",
   "execution_count": 85,
   "metadata": {},
   "outputs": [
    {
     "name": "stdout",
     "output_type": "stream",
     "text": [
      "Loaded 3041 entries of lemonde\n",
      "Loaded 14 entries of source\n"
     ]
    }
   ],
   "source": [
    "with open(\"data_out/lemonde.json\", 'r') as l:\n",
    "    lemonde = json.load(l)\n",
    "\n",
    "with open(\"data_out/sources.json\", 'r') as s:\n",
    "    source = json.load(s)\n",
    "\n",
    "print('Loaded', len(lemonde), \"entries of lemonde\")\n",
    "print('Loaded', len(source), \"entries of source\")"
   ]
  },
  {
   "cell_type": "markdown",
   "metadata": {},
   "source": [
    "### Head"
   ]
  },
  {
   "cell_type": "code",
   "execution_count": 5,
   "metadata": {},
   "outputs": [
    {
     "data": {
      "text/plain": [
       "(0,\n",
       " ('https://www.lemonde.fr/international/article/2020/12/06/l-ue-met-en-place-un-nouveau-regime-de-sanctions-transversales_6062390_3210.html',\n",
       "  {'title': 'L’UE met en place un nouveau régime de sanctions transversales',\n",
       "   'date': '2020-12-06T14:00:08',\n",
       "   'author': ['Laurence Girard',\n",
       "    'Taha Oudghiri',\n",
       "    'Vice-Président De L Association Marocaine Des Économistes D Entreprises Ameen',\n",
       "    'Stéphane Foucart',\n",
       "    'Jean-Pierre Stroobants',\n",
       "    'Bruxelles',\n",
       "    'Bureau Européen'],\n",
       "   'category': 'Europe',\n",
       "   'content': 'L’opposant russe Alexeï Navalny, le 22 août 2019 à Moscou. Alexander Zemlianichenko / AP\\n\\nLe « nouveau régime de sanctions transversales » que les ministres des affaires étrangères de l’Union européenne devraient approuver lundi 7 décembre, à Bruxelles, va peut-être clore des années de discussion et ramener l’Union à son exact niveau d’ambition. Qui ne peut plus être vraiment celui du « pouvoir transformateur » dont rêvaient certains, mais celui d’un acteur de rang intermédiaire, encore capable de rappeler ses valeurs.\\n\\nLe texte ne portera pas le nom de « Magnitski », pour ne pas heurter la sensibilité prorusse de certains pays membres et pour ne pas pointer dans la seule direction de Moscou en évoquant le nom de Sergueï Magnitski, ce juriste russe mort en détention en 2009, torturé parce qu’il avait dénoncé une vaste affaire de corruption.\\n\\nEt il requerra, toujours, l’unanimité des Vingt-Sept. Officiellement pour lui conférer plus de force ; en réalité pour ne pas accroître les tensions et les divisions lorsqu’il s’agira de sanctionner les auteurs des atteintes aux droits de l’homme dans telle ou telle partie du monde.\\n\\nLire aussi La CEDH condamne lourdement la Russie dans l’affaire Magnitski\\n\\nCe ne sera donc pas entièrement un « Global Magnitsky Act », comme celui dont se sont dotés les Etats-Unis en 2016, imités ensuite par le Canada, le Royaume-Uni et les trois Etats baltes (l’Estonie, la Lettonie et la Lituanie). A savoir, des lois élargies à tous les suspects de violation des droits de l’homme – pas seulement russes – mais aussi d’actes majeurs de corruption dans le monde. En effet, même si le Parlement européen, dans une résolution votée en mars 2019, visait clairement les activités de « corruption systématique », les textes du Conseil ne retiennent apparemment pas ce point. « Faute d’une définition précise en droit international, et parce que la corruption peut être attaquée par d’autres mécanismes », indique une source.\\n\\nImpulsion décisive\\n\\nLe projet vise à punir, avec les armes traditionnelles de l’Union – pour l’essentiel, gel des avoirs, interdiction de visas et de voyages – les auteurs d’atteintes graves aux droits de l’homme. De manière « flexible » sans que leur pays soit visé. Et la liste des violations retenues est longue : crime contre l’humanité, génocide, torture, arrestations arbitraires, trafic d’êtres humains, violences sexuelles, entrave au droit de rassemblement, etc.\\n\\nInitié par les Pays-Bas en 2018, soutenu par la présidente de la Commission européenne et le haut représentant Josep Borrell, le projet a connu une impulsion décisive à la suite de la tentative d’empoisonnement de l’opposant russe Alexeï Navalny, victime d’un agent neurotoxique du groupe Novitchok en août et évacué vers l’Allemagne, où il a été soigné.\\n\\nIl vous reste 33.52% de cet article à lire. La suite est réservée aux abonnés.',\n",
       "   'image_link': 'https://img.lemde.fr/2020/11/30/241/0/4657/2326/1440/720/60/0/865142e_ef3ccc0203b4492eb3ac02ecb0450133-ef3ccc0203b4492eb3ac02ecb0450133-0.jpg',\n",
       "   'image_file': './lm-db/images/865142e_ef3ccc0203b4492eb3ac02ecb0450133-ef3ccc0203b4492eb3ac02ecb0450133-0.jpg'}))"
      ]
     },
     "execution_count": 5,
     "metadata": {},
     "output_type": "execute_result"
    }
   ],
   "source": [
    "[(k, v) for k, v in enumerate(lemonde.items())][0]"
   ]
  },
  {
   "cell_type": "markdown",
   "metadata": {},
   "source": [
    "### Identifier les informations disponibles dans le flux RSS de l’exemple ci-dessus et les  ́el ́ements correspondants dans la structure de donn ́ees retourn ́ees par fp.parse"
   ]
  },
  {
   "cell_type": "code",
   "execution_count": 86,
   "metadata": {},
   "outputs": [
    {
     "data": {
      "text/plain": [
       "True"
      ]
     },
     "execution_count": 86,
     "metadata": {},
     "output_type": "execute_result"
    }
   ],
   "source": [
    "kys = []\n",
    "df = {}\n",
    "for keys, values in lemonde.items():\n",
    "    for k, v in values.items():\n",
    "        kys.append(k)\n",
    "        df[k] = v\n",
    "        \n",
    "# Sanity check\n",
    "len(kys) == len(lemonde.items())*len(set(kys))"
   ]
  },
  {
   "cell_type": "code",
   "execution_count": 87,
   "metadata": {},
   "outputs": [
    {
     "data": {
      "text/plain": [
       "{'author', 'category', 'content', 'date', 'image_file', 'image_link', 'title'}"
      ]
     },
     "execution_count": 87,
     "metadata": {},
     "output_type": "execute_result"
    }
   ],
   "source": [
    "# Les attributs disponible dans la base\n",
    "set(kys)"
   ]
  },
  {
   "cell_type": "markdown",
   "metadata": {},
   "source": [
    "# pour chacun des flux RSS listés dans le fichier sources.json :\n",
    "\n",
    "### – Lire les données du flux RSS\n",
    "### – Scanner les articles et repérer ceux qui ne sont pas deja présent dans la base de données"
   ]
  },
  {
   "cell_type": "markdown",
   "metadata": {},
   "source": [
    "# # TODO: \n",
    "\n",
    "## 2\n",
    "    - Pour l’un des articles de votre flux RSS, regardez le code HTML de la page web. Pouvez-vous identifier les zones contenant le titre de l’article ? le texte de l’article ? En quoi le recours à la librairie newspaper3k est-il utile ? Quelles informations peut-on ainsi récupérer concernant un article ?TODO: \n",
    "\n",
    "\n",
    "**Réponse:**  \n",
    "    - Le title est. dans `class=\"article__heading\"`  \n",
    "    - le text est dans `class=\"article__wrapper \"`\n",
    "\n",
    "- On peut récupere le caption des images dans `class=\"article__legend\"`et le temps de lecture ncessaire dans `class=\"meta__reading-time meta__reading-time--header\"`\n"
   ]
  },
  {
   "cell_type": "markdown",
   "metadata": {},
   "source": [
    "## 3\n",
    "Reprendre votre programme de scrapping et le compléter de maniere à mettre a jour votre base de données avec le texte des articles du flux RSS et le lien vers l’image illustrant l’article lorsqu’il y en a une. Vous pouvez inclure d’autres informations qui vous semblent utile pour un traitement ultérieur."
   ]
  },
  {
   "cell_type": "code",
   "execution_count": 124,
   "metadata": {
    "scrolled": true
   },
   "outputs": [
    {
     "data": {
      "text/plain": [
       "'L’UE met en place un nouveau régime de sanctions transversales'"
      ]
     },
     "execution_count": 124,
     "metadata": {},
     "output_type": "execute_result"
    }
   ],
   "source": [
    "lemonde['https://www.lemonde.fr/international/article/2020/12/06/l-ue-met-en-place-un-nouveau-regime-de-sanctions-transversales_6062390_3210.html'][\"title\"]"
   ]
  },
  {
   "cell_type": "code",
   "execution_count": 80,
   "metadata": {
    "scrolled": true
   },
   "outputs": [
    {
     "name": "stdout",
     "output_type": "stream",
     "text": [
      "dict_values(['Nathalie Becquart, première femme à avoir le droit de vote au synode des évêques', {'type': 'text/plain', 'language': None, 'base': 'https://www.lemonde.fr/europe/rss_full.xml', 'value': 'Nathalie Becquart, première femme à avoir le droit de vote au synode des évêques'}, 'Sat, 06 Feb 2021 14:56:57 +0100', time.struct_time(tm_year=2021, tm_mon=2, tm_mday=6, tm_hour=13, tm_min=56, tm_sec=57, tm_wday=5, tm_yday=37, tm_isdst=0), 'La Française a été nommée sous-secrétaire du synode, l’assemblée des évêques chargée d’étudier les grandes questions doctrinales au Vatican.', {'type': 'text/html', 'language': None, 'base': 'https://www.lemonde.fr/europe/rss_full.xml', 'value': 'La Française a été nommée sous-secrétaire du synode, l’assemblée des évêques chargée d’étudier les grandes questions doctrinales au Vatican.'}, 'https://www.lemonde.fr/societe/article/2021/02/06/nathalie-becquart-premiere-femme-a-avoir-le-droit-de-vote-au-synode-des-eveques_6069030_3224.html', True, 'https://www.lemonde.fr/societe/article/2021/02/06/nathalie-becquart-premiere-femme-a-avoir-le-droit-de-vote-au-synode-des-eveques_6069030_3224.html', [{'rel': 'alternate', 'type': 'text/html', 'href': 'https://www.lemonde.fr/societe/article/2021/02/06/nathalie-becquart-premiere-femme-a-avoir-le-droit-de-vote-au-synode-des-eveques_6069030_3224.html'}], [{'url': 'https://img.lemde.fr/2015/10/09/527/0/4564/2282/644/322/60/0/357524c_3ebfae9dfa78458cbc78be270f3fd62a-3ebfae9dfa78458cbc78be270f3fd62a-0.jpg', 'width': '644', 'height': '322'}], [{'type': 'text/plain', 'language': None, 'base': 'https://www.lemonde.fr/europe/rss_full.xml', 'value': 'Le pape François s’entretient avec le cardinal Lorenzo Baldisseri, avant une session du synode des évêques, au Vatican, le 9\\xa0octobre\\xa02015.'}], [{'scheme': 'urn:ebu', 'content': 'Alessandra Tarantino / AP'}], 'Alessandra Tarantino / AP'])\n",
      "------------------------------------------------------------------------------------------------------------------------------------------------------\n",
      "dict_values(['A Cuba, l’activité privée autorisée dans la majorité des secteurs économiques', {'type': 'text/plain', 'language': None, 'base': 'https://www.lemonde.fr/ameriques/rss_full.xml', 'value': 'A Cuba, l’activité privée autorisée dans la majorité des secteurs économiques'}, 'Sat, 06 Feb 2021 21:06:49 +0100', time.struct_time(tm_year=2021, tm_mon=2, tm_mday=6, tm_hour=20, tm_min=6, tm_sec=49, tm_wday=5, tm_yday=37, tm_isdst=0), 'Autorisée sur l’île depuis 2010, l’activité privée était jusqu’alors limitée à une liste fixée par les autorités. Désormais, l’inverse sera de mise\\xa0: une liste établira les secteurs réservés à l’Etat.', {'type': 'text/html', 'language': None, 'base': 'https://www.lemonde.fr/ameriques/rss_full.xml', 'value': 'Autorisée sur l’île depuis 2010, l’activité privée était jusqu’alors limitée à une liste fixée par les autorités. Désormais, l’inverse sera de mise\\xa0: une liste établira les secteurs réservés à l’Etat.'}, 'https://www.lemonde.fr/international/article/2021/02/06/a-cuba-l-activite-privee-autorisee-dans-la-majorite-des-secteurs-economiques_6069048_3210.html', True, 'https://www.lemonde.fr/international/article/2021/02/06/a-cuba-l-activite-privee-autorisee-dans-la-majorite-des-secteurs-economiques_6069048_3210.html', [{'rel': 'alternate', 'type': 'text/html', 'href': 'https://www.lemonde.fr/international/article/2021/02/06/a-cuba-l-activite-privee-autorisee-dans-la-majorite-des-secteurs-economiques_6069048_3210.html'}], [{'url': 'https://img.lemde.fr/2021/02/06/231/0/2926/1461/644/322/60/0/61b276e_gggcdg05-health-coronavirus-cuba-curfew-0206-11.JPG', 'width': '644', 'height': '322'}], [{'type': 'text/plain', 'language': None, 'base': 'https://www.lemonde.fr/ameriques/rss_full.xml', 'value': 'A La Havane (Cuba), le 5 février.'}], [{'scheme': 'urn:ebu', 'content': 'STRINGER / REUTERS'}], 'STRINGER / REUTERS'])\n",
      "------------------------------------------------------------------------------------------------------------------------------------------------------\n",
      "dict_values(['Le journaliste Mahmoud Hussein a été libéré, après quatre ans de détention préventive en Egypte', {'type': 'text/plain', 'language': None, 'base': 'https://www.lemonde.fr/afrique/rss_full.xml', 'value': 'Le journaliste Mahmoud Hussein a été libéré, après quatre ans de détention préventive en Egypte'}, 'Sat, 06 Feb 2021 20:14:21 +0100', time.struct_time(tm_year=2021, tm_mon=2, tm_mday=6, tm_hour=19, tm_min=14, tm_sec=21, tm_wday=5, tm_yday=37, tm_isdst=0), 'L’homme de 54\\xa0ans, producteur pour la chaîne qatarie Al-Jazira, est accusé par Le\\xa0Caire d’«\\xa0incitation à la sédition contre l’Etat\\xa0» et de «\\xa0diffusion de fausses informations\\xa0».', {'type': 'text/html', 'language': None, 'base': 'https://www.lemonde.fr/afrique/rss_full.xml', 'value': 'L’homme de 54\\xa0ans, producteur pour la chaîne qatarie Al-Jazira, est accusé par Le\\xa0Caire d’«\\xa0incitation à la sédition contre l’Etat\\xa0» et de «\\xa0diffusion de fausses informations\\xa0».'}, 'https://www.lemonde.fr/afrique/article/2021/02/06/le-journaliste-mahmoud-hussein-a-ete-libere-apres-quatre-ans-de-detention-preventive-en-egypte_6069047_3212.html', True, 'https://www.lemonde.fr/afrique/article/2021/02/06/le-journaliste-mahmoud-hussein-a-ete-libere-apres-quatre-ans-de-detention-preventive-en-egypte_6069047_3212.html', [{'rel': 'alternate', 'type': 'text/html', 'href': 'https://www.lemonde.fr/afrique/article/2021/02/06/le-journaliste-mahmoud-hussein-a-ete-libere-apres-quatre-ans-de-detention-preventive-en-egypte_6069047_3212.html'}], [{'url': 'https://img.lemde.fr/2021/02/06/416/0/5051/2523/644/322/60/0/ddc2030_5164467-01-06.jpg', 'width': '644', 'height': '322'}], [{'type': 'text/plain', 'language': None, 'base': 'https://www.lemonde.fr/afrique/rss_full.xml', 'value': 'Le journaliste Mahmoud Hussein (au centre) a été accueilli par ses proches, après sa libération conditionnelle, le 6\\xa0février. Il était en détention provisoire au Caire (Egypte) depuis quatre ans.'}], [{'scheme': 'urn:ebu', 'content': '- / AFP'}], '- / AFP'])\n",
      "------------------------------------------------------------------------------------------------------------------------------------------------------\n",
      "dict_values(['En Inde, nouvelle journée de mobilisation, la révolte paysanne s’intensifie', {'type': 'text/plain', 'language': None, 'base': 'https://www.lemonde.fr/asie-pacifique/rss_full.xml', 'value': 'En Inde, nouvelle journée de mobilisation, la révolte paysanne s’intensifie'}, 'Sat, 06 Feb 2021 07:45:27 +0100', time.struct_time(tm_year=2021, tm_mon=2, tm_mday=6, tm_hour=6, tm_min=45, tm_sec=27, tm_wday=5, tm_yday=37, tm_isdst=0), 'Les syndicats, en lutte contre la réforme libéralisant les marchés agricoles, organisent, samedi, le blocage des routes dans le pays.', {'type': 'text/html', 'language': None, 'base': 'https://www.lemonde.fr/asie-pacifique/rss_full.xml', 'value': 'Les syndicats, en lutte contre la réforme libéralisant les marchés agricoles, organisent, samedi, le blocage des routes dans le pays.'}, 'https://www.lemonde.fr/international/article/2021/02/06/en-inde-nouvelle-journee-de-mobilisation-la-revolte-paysanne-s-intensifie_6068994_3210.html', True, 'https://www.lemonde.fr/international/article/2021/02/06/en-inde-nouvelle-journee-de-mobilisation-la-revolte-paysanne-s-intensifie_6068994_3210.html', [{'rel': 'alternate', 'type': 'text/html', 'href': 'https://www.lemonde.fr/international/article/2021/02/06/en-inde-nouvelle-journee-de-mobilisation-la-revolte-paysanne-s-intensifie_6068994_3210.html'}], [{'url': 'https://img.lemde.fr/2021/02/05/438/0/5255/2627/644/322/60/0/322a37d_5155899-01-06.jpg', 'width': '644', 'height': '322'}], [{'scheme': 'urn:ebu', 'content': 'PRAKASH SINGH / AFP'}], 'PRAKASH SINGH / AFP'])\n",
      "------------------------------------------------------------------------------------------------------------------------------------------------------\n",
      "dict_values(['Dans la guerre au Yémen, les Etats-Unis prennent leurs distances avec l’allié saoudien', {'type': 'text/plain', 'language': None, 'base': 'https://www.lemonde.fr/proche-orient/rss_full.xml', 'value': 'Dans la guerre au Yémen, les Etats-Unis prennent leurs distances avec l’allié saoudien'}, 'Sat, 06 Feb 2021 10:19:16 +0100', time.struct_time(tm_year=2021, tm_mon=2, tm_mday=6, tm_hour=9, tm_min=19, tm_sec=16, tm_wday=5, tm_yday=37, tm_isdst=0), 'Washington a annoncé la fin de son soutien à Riyad, enferré dans une «\\xa0catastrophe humanitaire et stratégique\\xa0». Mais il ne définit pas encore une ligne diplomatique pouvant amener à la fin de la guerre.', {'type': 'text/html', 'language': None, 'base': 'https://www.lemonde.fr/proche-orient/rss_full.xml', 'value': 'Washington a annoncé la fin de son soutien à Riyad, enferré dans une «\\xa0catastrophe humanitaire et stratégique\\xa0». Mais il ne définit pas encore une ligne diplomatique pouvant amener à la fin de la guerre.'}, 'https://www.lemonde.fr/international/article/2021/02/06/dans-la-guerre-au-yemen-joe-biden-prend-ses-distances-avec-l-allie-saoudien_6069010_3210.html', True, 'https://www.lemonde.fr/international/article/2021/02/06/dans-la-guerre-au-yemen-joe-biden-prend-ses-distances-avec-l-allie-saoudien_6069010_3210.html', [{'rel': 'alternate', 'type': 'text/html', 'href': 'https://www.lemonde.fr/international/article/2021/02/06/dans-la-guerre-au-yemen-joe-biden-prend-ses-distances-avec-l-allie-saoudien_6069010_3210.html'}], [{'url': 'https://img.lemde.fr/2021/02/06/346/0/4540/2270/644/322/60/0/e689984_851212229-000-kp9my.jpg', 'width': '644', 'height': '322'}], [{'type': 'text/plain', 'language': None, 'base': 'https://www.lemonde.fr/proche-orient/rss_full.xml', 'value': 'Des officiers saoudiens sous le logo de forces aériennes du pays.'}], [{'scheme': 'urn:ebu', 'content': 'FAYEZ NURELDINE / AFP'}], 'FAYEZ NURELDINE / AFP'])\n",
      "------------------------------------------------------------------------------------------------------------------------------------------------------\n",
      "dict_values(['«\\xa0Les relations commerciales entre l’Allemagne et le Royaume-Uni pâtissent de l’impact du Brexit\\xa0»', {'type': 'text/plain', 'language': None, 'base': 'https://www.lemonde.fr/royaume-uni/rss_full.xml', 'value': '«\\xa0Les relations commerciales entre l’Allemagne et le Royaume-Uni pâtissent de l’impact du Brexit\\xa0»'}, 'Sat, 06 Feb 2021 10:00:11 +0100', time.struct_time(tm_year=2021, tm_mon=2, tm_mday=6, tm_hour=9, tm_min=0, tm_sec=11, tm_wday=5, tm_yday=37, tm_isdst=0), 'Les deux économistes Dorothea Bohnekamp et Holger Müller constatent, dans une tribune au «\\xa0Monde\\xa0», le fort recul des investissements et des échanges entre Berlin et Londres symptomatique de la désintégration des relations économiques entre les deux pays qui s‘accélère depuis cinq ans.', {'type': 'text/html', 'language': None, 'base': 'https://www.lemonde.fr/royaume-uni/rss_full.xml', 'value': 'Les deux économistes Dorothea Bohnekamp et Holger Müller constatent, dans une tribune au «\\xa0Monde\\xa0», le fort recul des investissements et des échanges entre Berlin et Londres symptomatique de la désintégration des relations économiques entre les deux pays qui s‘accélère depuis cinq ans.'}, 'https://www.lemonde.fr/idees/article/2021/02/06/les-relations-commerciales-entre-l-allemagne-et-le-royaume-uni-patissent-de-l-impact-du-brexit_6069007_3232.html', True, 'https://www.lemonde.fr/idees/article/2021/02/06/les-relations-commerciales-entre-l-allemagne-et-le-royaume-uni-patissent-de-l-impact-du-brexit_6069007_3232.html', [{'rel': 'alternate', 'type': 'text/html', 'href': 'https://www.lemonde.fr/idees/article/2021/02/06/les-relations-commerciales-entre-l-allemagne-et-le-royaume-uni-patissent-de-l-impact-du-brexit_6069007_3232.html'}], [{'url': 'https://img.lemde.fr/2019/10/08/27/0/1663/830/644/322/60/0/0061af4_zBIa31PfsH1ijMqx9BoURvX8.jpg', 'width': '644', 'height': '322'}], [{'type': 'text/plain', 'language': None, 'base': 'https://www.lemonde.fr/royaume-uni/rss_full.xml', 'value': '«\\xa0Le recul des investissements directs allemands au Royaume-Uni, passés de 147 milliards d’euros en 2016 à 127 milliards en 2019, selon les données de la Bundesbank, confirme ce bilan pour le moment négatif en termes d’échange de biens et de marchandises\\xa0» (Boris Johnson et Angela Merkel à Berlin, en août 2019).'}], [{'scheme': 'urn:ebu', 'content': 'Fabrizio Bensch / REUTERS'}], 'Fabrizio Bensch / REUTERS'])\n",
      "------------------------------------------------------------------------------------------------------------------------------------------------------\n",
      "dict_values(['Covid-19\\xa0: les Afro-Américains plus touchés, moins vaccinés', {'type': 'text/plain', 'language': None, 'base': 'https://www.lemonde.fr/etats-unis/rss_full.xml', 'value': 'Covid-19\\xa0: les Afro-Américains plus touchés, moins vaccinés'}, 'Sat, 06 Feb 2021 17:00:11 +0100', time.struct_time(tm_year=2021, tm_mon=2, tm_mday=6, tm_hour=16, tm_min=0, tm_sec=11, tm_wday=5, tm_yday=37, tm_isdst=0), 'Selon les Centres pour le contrôle et la prévention des maladies, la population noire a reçu 5,4\\xa0% des doses, alors qu’elle représente 13\\xa0% de la population, mais surtout 16\\xa0% des personnels de santé et 14\\xa0% des employés des maisons de retraite.', {'type': 'text/html', 'language': None, 'base': 'https://www.lemonde.fr/etats-unis/rss_full.xml', 'value': 'Selon les Centres pour le contrôle et la prévention des maladies, la population noire a reçu 5,4\\xa0% des doses, alors qu’elle représente 13\\xa0% de la population, mais surtout 16\\xa0% des personnels de santé et 14\\xa0% des employés des maisons de retraite.'}, 'https://www.lemonde.fr/planete/article/2021/02/06/covid-19-les-afro-americains-plus-touches-moins-vaccines_6069034_3244.html', True, 'https://www.lemonde.fr/planete/article/2021/02/06/covid-19-les-afro-americains-plus-touches-moins-vaccines_6069034_3244.html', [{'rel': 'alternate', 'type': 'text/html', 'href': 'https://www.lemonde.fr/planete/article/2021/02/06/covid-19-les-afro-americains-plus-touches-moins-vaccines_6069034_3244.html'}], [{'url': 'https://img.lemde.fr/2021/02/04/520/0/6240/3120/644/322/60/0/195d768_5153406-01-07.jpg', 'width': '644', 'height': '322'}], [{'type': 'text/plain', 'language': None, 'base': 'https://www.lemonde.fr/etats-unis/rss_full.xml', 'value': 'Dans un centre de vaccination du Bronx, à New York, le 4 février.'}], [{'scheme': 'urn:ebu', 'content': 'SPENCER PLATT / AFP'}], 'SPENCER PLATT / AFP'])\n",
      "------------------------------------------------------------------------------------------------------------------------------------------------------\n",
      "dict_values(['«\\xa0Les crimes du colonialisme et de la guerre d’Algérie doivent être reconnus, non par “repentance” mais par souci de vérité\\xa0»', {'type': 'text/plain', 'language': None, 'base': 'https://www.lemonde.fr/politique/rss_full.xml', 'value': '«\\xa0Les crimes du colonialisme et de la guerre d’Algérie doivent être reconnus, non par “repentance” mais par souci de vérité\\xa0»'}, 'Sat, 06 Feb 2021 17:28:55 +0100', time.struct_time(tm_year=2021, tm_mon=2, tm_mday=6, tm_hour=16, tm_min=28, tm_sec=55, tm_wday=5, tm_yday=37, tm_isdst=0), 'Loin de réconcilier les mémoires blessées, le repentir est un guet-apens qui empêche la reconnaissance des faits et de la responsabilité politique des événements du passé, relève dans sa chronique Philippe Bernard.', {'type': 'text/html', 'language': None, 'base': 'https://www.lemonde.fr/politique/rss_full.xml', 'value': 'Loin de réconcilier les mémoires blessées, le repentir est un guet-apens qui empêche la reconnaissance des faits et de la responsabilité politique des événements du passé, relève dans sa chronique Philippe Bernard.'}, 'https://www.lemonde.fr/idees/article/2021/02/06/les-crimes-du-colonialisme-et-de-la-guerre-d-algerie-doivent-etre-reconnus-non-par-repentance-mais-par-souci-de-verite_6069036_3232.html', True, 'https://www.lemonde.fr/idees/article/2021/02/06/les-crimes-du-colonialisme-et-de-la-guerre-d-algerie-doivent-etre-reconnus-non-par-repentance-mais-par-souci-de-verite_6069036_3232.html', [{'rel': 'alternate', 'type': 'text/html', 'href': 'https://www.lemonde.fr/idees/article/2021/02/06/les-crimes-du-colonialisme-et-de-la-guerre-d-algerie-doivent-etre-reconnus-non-par-repentance-mais-par-souci-de-verite_6069036_3232.html'}], [{'url': 'https://img.lemde.fr/2021/01/20/140/0/4496/2248/644/322/60/0/70f6dac_5063061-01-06.jpg', 'width': '644', 'height': '322'}], [{'type': 'text/plain', 'language': None, 'base': 'https://www.lemonde.fr/politique/rss_full.xml', 'value': 'L’historien Benjamin Stora remet au président Emmanuel Macron son rapport\\xa0sur les mémoires de la colonisation et de la guerre d’Algérie, le 20 janvier 2021, au palais de l’Elysée.'}], [{'scheme': 'urn:ebu', 'content': 'CHRISTIAN HARTMANN / AFP'}], 'CHRISTIAN HARTMANN / AFP'])\n",
      "------------------------------------------------------------------------------------------------------------------------------------------------------\n",
      "dict_values(['Deux mineurs supplémentaires mis en examen dans le cadre de l’agression de Yuriy à Paris', {'type': 'text/plain', 'language': None, 'base': 'https://www.lemonde.fr/societe/rss_full.xml', 'value': 'Deux mineurs supplémentaires mis en examen dans le cadre de l’agression de Yuriy à Paris'}, 'Sat, 06 Feb 2021 17:52:34 +0100', time.struct_time(tm_year=2021, tm_mon=2, tm_mday=6, tm_hour=16, tm_min=52, tm_sec=34, tm_wday=5, tm_yday=37, tm_isdst=0), 'Dans cette affaire, onze personnes de moins de 18\\xa0ans sont mises en cause pour le passage à tabac du collégien de 15\\xa0ans, le 15\\xa0janvier.', {'type': 'text/html', 'language': None, 'base': 'https://www.lemonde.fr/societe/rss_full.xml', 'value': 'Dans cette affaire, onze personnes de moins de 18\\xa0ans sont mises en cause pour le passage à tabac du collégien de 15\\xa0ans, le 15\\xa0janvier.'}, 'https://www.lemonde.fr/police-justice/article/2021/02/06/deux-mineurs-supplementaires-mis-en-examen-dans-le-cadre-de-l-agression-de-yuriy-a-paris_6069038_1653578.html', True, 'https://www.lemonde.fr/police-justice/article/2021/02/06/deux-mineurs-supplementaires-mis-en-examen-dans-le-cadre-de-l-agression-de-yuriy-a-paris_6069038_1653578.html', [{'rel': 'alternate', 'type': 'text/html', 'href': 'https://www.lemonde.fr/police-justice/article/2021/02/06/deux-mineurs-supplementaires-mis-en-examen-dans-le-cadre-de-l-agression-de-yuriy-a-paris_6069038_1653578.html'}], [{'url': 'https://img.lemde.fr/2021/01/28/684/0/8192/4096/644/322/60/0/5a6d929_5108476-01-06.jpg', 'width': '644', 'height': '322'}], [{'type': 'text/plain', 'language': None, 'base': 'https://www.lemonde.fr/societe/rss_full.xml', 'value': 'La dalle de Beaugrenelle, dans le 15e arrondissement de Paris, où Yuriy a été passé à tabac, le 15\\xa0janvier.'}], [{'scheme': 'urn:ebu', 'content': 'THOMAS COEX / AFP'}], 'THOMAS COEX / AFP'])\n",
      "------------------------------------------------------------------------------------------------------------------------------------------------------\n",
      "dict_values(['Deux mineurs supplémentaires mis en examen dans le cadre de l’agression de Yuriy à Paris', {'type': 'text/plain', 'language': None, 'base': 'https://www.lemonde.fr/justice/rss_full.xml', 'value': 'Deux mineurs supplémentaires mis en examen dans le cadre de l’agression de Yuriy à Paris'}, 'Sat, 06 Feb 2021 17:52:34 +0100', time.struct_time(tm_year=2021, tm_mon=2, tm_mday=6, tm_hour=16, tm_min=52, tm_sec=34, tm_wday=5, tm_yday=37, tm_isdst=0), 'Dans cette affaire, onze personnes de moins de 18\\xa0ans sont mises en cause pour le passage à tabac du collégien de 15\\xa0ans, le 15\\xa0janvier.', {'type': 'text/html', 'language': None, 'base': 'https://www.lemonde.fr/justice/rss_full.xml', 'value': 'Dans cette affaire, onze personnes de moins de 18\\xa0ans sont mises en cause pour le passage à tabac du collégien de 15\\xa0ans, le 15\\xa0janvier.'}, 'https://www.lemonde.fr/police-justice/article/2021/02/06/deux-mineurs-supplementaires-mis-en-examen-dans-le-cadre-de-l-agression-de-yuriy-a-paris_6069038_1653578.html', True, 'https://www.lemonde.fr/police-justice/article/2021/02/06/deux-mineurs-supplementaires-mis-en-examen-dans-le-cadre-de-l-agression-de-yuriy-a-paris_6069038_1653578.html', [{'rel': 'alternate', 'type': 'text/html', 'href': 'https://www.lemonde.fr/police-justice/article/2021/02/06/deux-mineurs-supplementaires-mis-en-examen-dans-le-cadre-de-l-agression-de-yuriy-a-paris_6069038_1653578.html'}], [{'url': 'https://img.lemde.fr/2021/01/28/684/0/8192/4096/644/322/60/0/5a6d929_5108476-01-06.jpg', 'width': '644', 'height': '322'}], [{'type': 'text/plain', 'language': None, 'base': 'https://www.lemonde.fr/justice/rss_full.xml', 'value': 'La dalle de Beaugrenelle, dans le 15e arrondissement de Paris, où Yuriy a été passé à tabac, le 15\\xa0janvier.'}], [{'scheme': 'urn:ebu', 'content': 'THOMAS COEX / AFP'}], 'THOMAS COEX / AFP'])\n",
      "------------------------------------------------------------------------------------------------------------------------------------------------------\n",
      "dict_values(['«\\xa0Deux fois plus d’étudiants en dix ans\\xa0»\\xa0: la licence Staps, à bout de souffle', {'type': 'text/plain', 'language': None, 'base': 'https://www.lemonde.fr/education/rss_full.xml', 'value': '«\\xa0Deux fois plus d’étudiants en dix ans\\xa0»\\xa0: la licence Staps, à bout de souffle'}, 'Fri, 05 Feb 2021 07:00:20 +0100', time.struct_time(tm_year=2021, tm_mon=2, tm_mday=5, tm_hour=6, tm_min=0, tm_sec=20, tm_wday=4, tm_yday=36, tm_isdst=0), 'Avec 70 000 étudiants en première année, la filière Sport est victime de son succès. Le manque d’infrastructures et d’enseignants conjugué à la crise sanitaire accentue la pression sur cette filière.', {'type': 'text/html', 'language': None, 'base': 'https://www.lemonde.fr/education/rss_full.xml', 'value': 'Avec 70 000 étudiants en première année, la filière Sport est victime de son succès. Le manque d’infrastructures et d’enseignants conjugué à la crise sanitaire accentue la pression sur cette filière.'}, 'https://www.lemonde.fr/campus/article/2021/02/05/deux-fois-plus-d-etudiants-en-dix-ans-la-licence-staps-a-bout-de-souffle_6068855_4401467.html', True, 'https://www.lemonde.fr/campus/article/2021/02/05/deux-fois-plus-d-etudiants-en-dix-ans-la-licence-staps-a-bout-de-souffle_6068855_4401467.html', [{'rel': 'alternate', 'type': 'text/html', 'href': 'https://www.lemonde.fr/campus/article/2021/02/05/deux-fois-plus-d-etudiants-en-dix-ans-la-licence-staps-a-bout-de-souffle_6068855_4401467.html'}], [{'url': 'https://img.lemde.fr/2020/12/17/1260/0/3024/1512/644/322/60/0/8cc090f_436543798-img-6047.png', 'width': '644', 'height': '322'}], [{'scheme': 'urn:ebu', 'content': 'Romane Bonnemé'}], 'Romane Bonnemé'])\n",
      "------------------------------------------------------------------------------------------------------------------------------------------------------\n",
      "dict_values(['«\\xa0La réglementation de la durée du travail salarié est incompatible avec la nature des activités des plates-formes\\xa0»', {'type': 'text/plain', 'language': None, 'base': 'https://www.lemonde.fr/entreprises/rss_full.xml', 'value': '«\\xa0La réglementation de la durée du travail salarié est incompatible avec la nature des activités des plates-formes\\xa0»'}, 'Sat, 06 Feb 2021 12:47:03 +0100', time.struct_time(tm_year=2021, tm_mon=2, tm_mday=6, tm_hour=11, tm_min=47, tm_sec=3, tm_wday=5, tm_yday=37, tm_isdst=0), 'Les avocats Pierre Warin et Pierre Chevillard observent dans une tribune au «\\xa0Monde\\xa0» que les appels à requalifier en salariés les travailleurs des plates-formes se heurtent à un obstacle majeur\\xa0: respecter les horaires légaux', {'type': 'text/html', 'language': None, 'base': 'https://www.lemonde.fr/entreprises/rss_full.xml', 'value': 'Les avocats Pierre Warin et Pierre Chevillard observent dans une tribune au «\\xa0Monde\\xa0» que les appels à requalifier en salariés les travailleurs des plates-formes se heurtent à un obstacle majeur\\xa0: respecter les horaires légaux'}, 'https://www.lemonde.fr/idees/article/2021/02/06/la-reglementation-de-la-duree-du-travail-salarie-est-incompatible-avec-la-nature-des-activites-des-plates-formes_6069023_3232.html', True, 'https://www.lemonde.fr/idees/article/2021/02/06/la-reglementation-de-la-duree-du-travail-salarie-est-incompatible-avec-la-nature-des-activites-des-plates-formes_6069023_3232.html', [{'rel': 'alternate', 'type': 'text/html', 'href': 'https://www.lemonde.fr/idees/article/2021/02/06/la-reglementation-de-la-duree-du-travail-salarie-est-incompatible-avec-la-nature-des-activites-des-plates-formes_6069023_3232.html'}], [{'url': 'https://img.lemde.fr/2021/02/05/339/0/4987/2484/644/322/60/0/7185399_817170425-hyuijkou.jpg', 'width': '644', 'height': '322'}], [{'type': 'text/plain', 'language': None, 'base': 'https://www.lemonde.fr/entreprises/rss_full.xml', 'value': '«\\xa0les salariés et les entreprises françaises qui gagneraient à ce que la règlementation du temps de travail devienne celle du travail d’aujourd’hui et des emplois de demain.\\xa0»'}], [{'scheme': 'urn:ebu', 'content': 'Philippe Turpin / Photononstop'}], 'Philippe Turpin / Photononstop'])\n",
      "------------------------------------------------------------------------------------------------------------------------------------------------------\n",
      "dict_values(['Relance économique : pourquoi la dette n’a jamais été aussi peu chère', {'type': 'text/plain', 'language': None, 'base': 'https://www.lemonde.fr/economie-francaise/rss_full.xml', 'value': 'Relance économique : pourquoi la dette n’a jamais été aussi peu chère'}, 'Sat, 06 Feb 2021 09:40:34 +0100', time.struct_time(tm_year=2021, tm_mon=2, tm_mday=6, tm_hour=8, tm_min=40, tm_sec=34, tm_wday=5, tm_yday=37, tm_isdst=0), 'Grâce à l’action de la Banque centrale européenne, la France emprunte à taux négatif et le service de la dette baisse d’année en année.', {'type': 'text/html', 'language': None, 'base': 'https://www.lemonde.fr/economie-francaise/rss_full.xml', 'value': 'Grâce à l’action de la Banque centrale européenne, la France emprunte à taux négatif et le service de la dette baisse d’année en année.'}, 'https://www.lemonde.fr/politique/article/2021/02/06/relance-economique-pourquoi-la-dette-n-a-jamais-ete-aussi-peu-chere_6069006_823448.html', True, 'https://www.lemonde.fr/politique/article/2021/02/06/relance-economique-pourquoi-la-dette-n-a-jamais-ete-aussi-peu-chere_6069006_823448.html', [{'rel': 'alternate', 'type': 'text/html', 'href': 'https://www.lemonde.fr/politique/article/2021/02/06/relance-economique-pourquoi-la-dette-n-a-jamais-ete-aussi-peu-chere_6069006_823448.html'}], [{'url': 'https://img.lemde.fr/2021/02/06/192/0/3500/1750/644/322/60/0/b892f0a_350746112-038818.jpg', 'width': '644', 'height': '322'}], [{'type': 'text/plain', 'language': None, 'base': 'https://www.lemonde.fr/economie-francaise/rss_full.xml', 'value': 'Le siège de la Banque centrale européenne, à Francfort, le 28 janvier 2021.'}], [{'scheme': 'urn:ebu', 'content': 'KAI PFAFFENBACH / REUTERS'}], 'KAI PFAFFENBACH / REUTERS'])\n",
      "------------------------------------------------------------------------------------------------------------------------------------------------------\n",
      "dict_values(['Les grands gagnants de «\\xa0l’économie du confinement\\xa0»', {'type': 'text/plain', 'language': None, 'base': 'https://www.lemonde.fr/industrie/rss_full.xml', 'value': 'Les grands gagnants de «\\xa0l’économie du confinement\\xa0»'}, 'Sat, 06 Feb 2021 01:36:47 +0100', time.struct_time(tm_year=2021, tm_mon=2, tm_mday=6, tm_hour=0, tm_min=36, tm_sec=47, tm_wday=5, tm_yday=37, tm_isdst=0), 'La crise planétaire a détruit des emplois et asséché des secteurs entiers. Mais elle en a aussi dopé d’autres, enrichissant les actionnaires de multinationales comme Apple, Netflix et Amazon.', {'type': 'text/html', 'language': None, 'base': 'https://www.lemonde.fr/industrie/rss_full.xml', 'value': 'La crise planétaire a détruit des emplois et asséché des secteurs entiers. Mais elle en a aussi dopé d’autres, enrichissant les actionnaires de multinationales comme Apple, Netflix et Amazon.'}, 'https://www.lemonde.fr/economie/article/2021/02/06/covid-19-les-grands-gagnants-de-l-economie-du-confinement_6068977_3234.html', True, 'https://www.lemonde.fr/economie/article/2021/02/06/covid-19-les-grands-gagnants-de-l-economie-du-confinement_6068977_3234.html', [{'rel': 'alternate', 'type': 'text/html', 'href': 'https://www.lemonde.fr/economie/article/2021/02/06/covid-19-les-grands-gagnants-de-l-economie-du-confinement_6068977_3234.html'}], [{'url': 'https://img.lemde.fr/2021/02/05/11/0/2858/1427/644/322/60/0/3c6acdd_762980051-le-monde-2.jpg', 'width': '644', 'height': '322'}], [{'scheme': 'urn:ebu', 'content': 'SEVERIN MILLET'}], 'SEVERIN MILLET'])\n",
      "------------------------------------------------------------------------------------------------------------------------------------------------------\n"
     ]
    }
   ],
   "source": [
    "# new df\n",
    "for category, urls in source.items() :\n",
    "    new_data = fp.parse(urls)\n",
    "    print(new_data.entries[0].values())\n",
    "    print(\"----------\"*15)"
   ]
  },
  {
   "cell_type": "code",
   "execution_count": 115,
   "metadata": {},
   "outputs": [
    {
     "data": {
      "text/plain": [
       "216"
      ]
     },
     "execution_count": 115,
     "metadata": {},
     "output_type": "execute_result"
    }
   ],
   "source": [
    "linkto_update = []\n",
    "for category, url in source.items():\n",
    "    sources = fp.parse(url)\n",
    "    for items in sources.entries:\n",
    "        linkto_update.append(items.get(\"id\"))\n",
    "        \n",
    "lien_a_ajouter = set(linkto_update) # liens a parser pour update la base lemonde\n",
    "len(lien_a_ajouter)"
   ]
  },
  {
   "cell_type": "code",
   "execution_count": 125,
   "metadata": {},
   "outputs": [],
   "source": [
    "notcommonlink = []\n",
    "for lien in lien_a_ajouter: \n",
    "    if lien not in liens_existant: \n",
    "        notcommonlink.append(lien)"
   ]
  },
  {
   "cell_type": "code",
   "execution_count": 82,
   "metadata": {},
   "outputs": [],
   "source": [
    "liens_existant = lemonde.keys() # Lien issue et existant dans notre base disponible, lemonde.\n",
    "\n",
    "notcommonlink = []\n",
    "for lien in lien_a_ajouter: \n",
    "    if lien not in liens_existant: \n",
    "        notcommonlink.append(lien)\n",
    "    \n",
    "# new df\n",
    "for category, url in source.items() :\n",
    "    new_data = fp.parse(url)\n",
    "    \n",
    "    for item in new_data.entries:\n",
    "        #Boucle permettant le scan de l'article\n",
    "        link = item.link\n",
    "        index = link.find('.html')\n",
    "        numero = link[index-7:index-1]\n",
    "        \n",
    "        if numero not in ids:\n",
    "            #On verifie si l'article est deja presentou non dans la base\n",
    "            article = np.Article(link)\n",
    "            article.download()\n",
    "            article.parse()\n",
    "            #Afin d'avoir une base la plus complète pour la suite, nous avons décidé de garder l'ensemble de ces infos\n",
    "            updatmonde[link] = {'title' : article.title,\n",
    "                             'date' : article.publish_date.isoformat(), \n",
    "                             'author' : article.authors, \n",
    "                             'category' : category, \n",
    "                             'content' : article.text, \n",
    "                             'image_link' : article.top_image}\n",
    "         \n",
    "            "
   ]
  },
  {
   "cell_type": "code",
   "execution_count": 84,
   "metadata": {},
   "outputs": [
    {
     "name": "stdout",
     "output_type": "stream",
     "text": [
      "3041\n"
     ]
    }
   ],
   "source": [
    "print(len(lemonde))"
   ]
  },
  {
   "cell_type": "code",
   "execution_count": 13,
   "metadata": {},
   "outputs": [
    {
     "name": "stdout",
     "output_type": "stream",
     "text": [
      "Before update lenght df lemonde was 3041\n",
      "<newspaper.article.Article object at 0x7fea38dd1cd0>\n"
     ]
    },
    {
     "ename": "KeyError",
     "evalue": "'https://www.lemonde.fr/international/article/2021/02/03/en-italie-sergio-mattarella-recourt-a-mario-draghi-pour-trouver-une-issue-a-la-crise-politique_6068625_3210.html'",
     "output_type": "error",
     "traceback": [
      "\u001B[0;31m---------------------------------------------------------------------------\u001B[0m",
      "\u001B[0;31mKeyError\u001B[0m                                  Traceback (most recent call last)",
      "\u001B[0;32m<ipython-input-13-967b90a150d1>\u001B[0m in \u001B[0;36m<module>\u001B[0;34m\u001B[0m\n\u001B[1;32m      9\u001B[0m         \u001B[0mprint\u001B[0m\u001B[0;34m(\u001B[0m\u001B[0marticle\u001B[0m\u001B[0;34m)\u001B[0m\u001B[0;34m\u001B[0m\u001B[0;34m\u001B[0m\u001B[0m\n\u001B[1;32m     10\u001B[0m \u001B[0;34m\u001B[0m\u001B[0m\n\u001B[0;32m---> 11\u001B[0;31m         \u001B[0mlemonde\u001B[0m\u001B[0;34m[\u001B[0m\u001B[0mlink\u001B[0m\u001B[0;34m]\u001B[0m\u001B[0;34m[\u001B[0m\u001B[0;34m\"date\"\u001B[0m\u001B[0;34m]\u001B[0m \u001B[0;34m=\u001B[0m \u001B[0marticle\u001B[0m\u001B[0;34m.\u001B[0m\u001B[0mpublish_date\u001B[0m\u001B[0;34m\u001B[0m\u001B[0;34m\u001B[0m\u001B[0m\n\u001B[0m\u001B[1;32m     12\u001B[0m         \u001B[0mlemonde\u001B[0m\u001B[0;34m[\u001B[0m\u001B[0mlink\u001B[0m\u001B[0;34m]\u001B[0m\u001B[0;34m[\u001B[0m\u001B[0;34m\"author\"\u001B[0m\u001B[0;34m]\u001B[0m\u001B[0;34m=\u001B[0m \u001B[0marticle\u001B[0m\u001B[0;34m.\u001B[0m\u001B[0mauthors\u001B[0m\u001B[0;34m\u001B[0m\u001B[0;34m\u001B[0m\u001B[0m\n\u001B[1;32m     13\u001B[0m         \u001B[0mlemonde\u001B[0m\u001B[0;34m[\u001B[0m\u001B[0mlink\u001B[0m\u001B[0;34m]\u001B[0m\u001B[0;34m[\u001B[0m\u001B[0;34m\"title\"\u001B[0m\u001B[0;34m]\u001B[0m \u001B[0;34m=\u001B[0m \u001B[0marticle\u001B[0m\u001B[0;34m.\u001B[0m\u001B[0mtitle\u001B[0m\u001B[0;34m\u001B[0m\u001B[0;34m\u001B[0m\u001B[0m\n",
      "\u001B[0;31mKeyError\u001B[0m: 'https://www.lemonde.fr/international/article/2021/02/03/en-italie-sergio-mattarella-recourt-a-mario-draghi-pour-trouver-une-issue-a-la-crise-politique_6068625_3210.html'"
     ]
    }
   ],
   "source": [
    "# init data storage\n",
    "print(\"Before update lenght df lemonde was {0}\".format(len(lemonde)))\n",
    "\n",
    "for link in links:\n",
    "    if link not in list(lemonde.keys()):\n",
    "        article = np.Article(link)\n",
    "        article.download()\n",
    "        article.parse()\n",
    "        print(article)\n",
    "\n",
    "        lemonde[link][\"date\"] = article.publish_date\n",
    "        lemonde[link][\"author\"]= article.authors\n",
    "        lemonde[link][\"title\"] = article.title\n",
    "        # lemonde[\"link\"][\"category\"] = article.c\n",
    "        lemonde[link][\"content\"] = article.text\n",
    "        lemonde[link][\"image_link\"] = article.top_image\n",
    "\n",
    "\n",
    "print(\"After update lenght df lemonde is {0}\".format(len(lemonde)))"
   ]
  },
  {
   "cell_type": "code",
   "execution_count": 244,
   "metadata": {},
   "outputs": [
    {
     "ename": "KeyError",
     "evalue": "'https://www.lemonde.fr/international/article/2021/02/03/en-australie-au-moins-71-habitations-detruites-pres-de-perth-dans-un-incendie_6068573_3210.html'",
     "output_type": "error",
     "traceback": [
      "\u001B[0;31m---------------------------------------------------------------------------\u001B[0m",
      "\u001B[0;31mKeyError\u001B[0m                                  Traceback (most recent call last)",
      "\u001B[0;32m<ipython-input-244-8b7ed43312eb>\u001B[0m in \u001B[0;36m<module>\u001B[0;34m\u001B[0m\n\u001B[1;32m      1\u001B[0m \u001B[0;32mfor\u001B[0m \u001B[0mlink\u001B[0m \u001B[0;32min\u001B[0m \u001B[0mlinks\u001B[0m\u001B[0;34m:\u001B[0m\u001B[0;34m\u001B[0m\u001B[0;34m\u001B[0m\u001B[0m\n\u001B[1;32m      2\u001B[0m     \u001B[0;32mif\u001B[0m \u001B[0mlink\u001B[0m \u001B[0;32mnot\u001B[0m \u001B[0;32min\u001B[0m \u001B[0mlist\u001B[0m\u001B[0;34m(\u001B[0m\u001B[0mlemonde\u001B[0m\u001B[0;34m.\u001B[0m\u001B[0mkeys\u001B[0m\u001B[0;34m(\u001B[0m\u001B[0;34m)\u001B[0m\u001B[0;34m)\u001B[0m\u001B[0;34m:\u001B[0m\u001B[0;34m\u001B[0m\u001B[0;34m\u001B[0m\u001B[0m\n\u001B[0;32m----> 3\u001B[0;31m         \u001B[0mlemonde\u001B[0m\u001B[0;34m[\u001B[0m\u001B[0mlink\u001B[0m\u001B[0;34m]\u001B[0m\u001B[0;34m[\u001B[0m\u001B[0;34m\"date\"\u001B[0m\u001B[0;34m]\u001B[0m\u001B[0;34m\u001B[0m\u001B[0;34m\u001B[0m\u001B[0m\n\u001B[0m",
      "\u001B[0;31mKeyError\u001B[0m: 'https://www.lemonde.fr/international/article/2021/02/03/en-australie-au-moins-71-habitations-detruites-pres-de-perth-dans-un-incendie_6068573_3210.html'"
     ]
    }
   ],
   "source": [
    "for link in links:\n",
    "    if link not in list(lemonde.keys()):\n",
    "        lemonde[link][\"date\"]"
   ]
  },
  {
   "cell_type": "code",
   "execution_count": 205,
   "metadata": {},
   "outputs": [
    {
     "data": {
      "text/plain": [
       "True"
      ]
     },
     "execution_count": 205,
     "metadata": {},
     "output_type": "execute_result"
    }
   ],
   "source": [
    "# Sanity checker\n",
    "data.shape[0] == len(links)"
   ]
  },
  {
   "cell_type": "code",
   "execution_count": 219,
   "metadata": {},
   "outputs": [],
   "source": [
    "def scraper(sources, df, **dico):\n",
    "    \"\"\" \n",
    "    Input:\n",
    "    ------\n",
    "    Source: json file containing links to parse\n",
    "    dico: key value pairs of collected data. \n",
    "    \n",
    "    Output:\n",
    "    -------\n",
    "    df: pandas dataframe where data will be stored\n",
    "    \"\"\"\n",
    "    links = []\n",
    "    for category, url in sources.items():\n",
    "        sources = fp.parse(url)\n",
    "        for items in sources.entries:\n",
    "            links.append(items.get(\"id\"))\n",
    "    links = set(links) # remove from here dup links\n",
    "    \n",
    "    for link in links:\n",
    "        article = np.Article(link)\n",
    "        article.download()\n",
    "        article.parse()\n",
    "        dico[\"liens\"] = link\n",
    "        dico[\"title\"] = article.title\n",
    "        dico[\"text\"] = article.text\n",
    "        dico[\"image\"] = article.top_image\n",
    "        temp = pd.DataFrame(dico, index=range(0,len(links)))\n",
    "        df = df.append(temp)\n",
    "    df.drop_duplicates(subset=['liens'], inplace=True) \n",
    "    df.reset_index(inplace=True)\n",
    "    \n",
    "    return df"
   ]
  },
  {
   "cell_type": "code",
   "execution_count": 220,
   "metadata": {},
   "outputs": [
    {
     "data": {
      "text/html": [
       "<div>\n",
       "<style scoped>\n",
       "    .dataframe tbody tr th:only-of-type {\n",
       "        vertical-align: middle;\n",
       "    }\n",
       "\n",
       "    .dataframe tbody tr th {\n",
       "        vertical-align: top;\n",
       "    }\n",
       "\n",
       "    .dataframe thead th {\n",
       "        text-align: right;\n",
       "    }\n",
       "</style>\n",
       "<table border=\"1\" class=\"dataframe\">\n",
       "  <thead>\n",
       "    <tr style=\"text-align: right;\">\n",
       "      <th></th>\n",
       "      <th>index</th>\n",
       "      <th>liens</th>\n",
       "      <th>title</th>\n",
       "      <th>text</th>\n",
       "      <th>image</th>\n",
       "    </tr>\n",
       "  </thead>\n",
       "  <tbody>\n",
       "    <tr>\n",
       "      <th>0</th>\n",
       "      <td>0</td>\n",
       "      <td>https://www.lemonde.fr/international/article/2...</td>\n",
       "      <td>En Australie, au moins 71 habitations détruite...</td>\n",
       "      <td>Les pompiers affrontent un incendie à Wooroloo...</td>\n",
       "      <td>https://img.lemde.fr/2021/02/02/249/0/3000/150...</td>\n",
       "    </tr>\n",
       "    <tr>\n",
       "      <th>1</th>\n",
       "      <td>0</td>\n",
       "      <td>https://www.lemonde.fr/politique/article/2021/...</td>\n",
       "      <td>Covid-19 : Emmanuel Macron veut rassurer à pro...</td>\n",
       "      <td>Emmanuel Macron au palais de l’Elysée à Paris,...</td>\n",
       "      <td>https://img.lemde.fr/2021/02/02/0/0/8191/4091/...</td>\n",
       "    </tr>\n",
       "    <tr>\n",
       "      <th>2</th>\n",
       "      <td>0</td>\n",
       "      <td>https://www.lemonde.fr/economie/article/2021/0...</td>\n",
       "      <td>Chacun peut désormais noter son agence bancair...</td>\n",
       "      <td>A Paris. LOIC VENANCE / AFP\\n\\nLa folie de la ...</td>\n",
       "      <td>https://img.lemde.fr/2021/02/03/364/0/4368/218...</td>\n",
       "    </tr>\n",
       "    <tr>\n",
       "      <th>3</th>\n",
       "      <td>0</td>\n",
       "      <td>https://www.lemonde.fr/idees/article/2021/02/0...</td>\n",
       "      <td>« Navalny, Blinken, Merkel et le gaz russe »</td>\n",
       "      <td>Chronique. En 1987, un jeune et brillant diplô...</td>\n",
       "      <td>https://img.lemde.fr/2021/01/26/308/0/3500/175...</td>\n",
       "    </tr>\n",
       "    <tr>\n",
       "      <th>4</th>\n",
       "      <td>0</td>\n",
       "      <td>https://www.lemonde.fr/economie/article/2021/0...</td>\n",
       "      <td>Fin de la précarité pour les femmes de chambre...</td>\n",
       "      <td>Une femme de chambre prépare une chambre d’hôt...</td>\n",
       "      <td>https://img.lemde.fr/2021/02/03/165/0/6016/300...</td>\n",
       "    </tr>\n",
       "    <tr>\n",
       "      <th>...</th>\n",
       "      <td>...</td>\n",
       "      <td>...</td>\n",
       "      <td>...</td>\n",
       "      <td>...</td>\n",
       "      <td>...</td>\n",
       "    </tr>\n",
       "    <tr>\n",
       "      <th>234</th>\n",
       "      <td>0</td>\n",
       "      <td>https://www.lemonde.fr/idees/article/2021/02/0...</td>\n",
       "      <td>« La France est aujourd’hui un pays de seconde...</td>\n",
       "      <td>Tribune. Tous les économistes reconnaissent qu...</td>\n",
       "      <td>https://img.lemde.fr/2021/01/28/911/0/5625/280...</td>\n",
       "    </tr>\n",
       "    <tr>\n",
       "      <th>235</th>\n",
       "      <td>0</td>\n",
       "      <td>https://www.lemonde.fr/sport/article/2021/02/0...</td>\n",
       "      <td>Football : huit personnes placées en détention...</td>\n",
       "      <td>Les services de police chiffrent à trois cents...</td>\n",
       "      <td>https://img.lemde.fr/2021/01/31/391/0/4692/234...</td>\n",
       "    </tr>\n",
       "    <tr>\n",
       "      <th>236</th>\n",
       "      <td>0</td>\n",
       "      <td>https://www.lemonde.fr/politique/article/2021/...</td>\n",
       "      <td>Face aux polémiques, Gérald Darmanin tente d’a...</td>\n",
       "      <td>Gérald Darmanin lors d’une intervention de Jea...</td>\n",
       "      <td>https://img.lemde.fr/2021/01/27/571/0/6848/342...</td>\n",
       "    </tr>\n",
       "    <tr>\n",
       "      <th>237</th>\n",
       "      <td>0</td>\n",
       "      <td>https://www.lemonde.fr/planete/article/2021/01...</td>\n",
       "      <td>Covid-19 dans le monde : AstraZeneca devrait l...</td>\n",
       "      <td>Manifestation contre les mesures sanitaires à ...</td>\n",
       "      <td>https://img.lemde.fr/2021/01/22/75/0/3236/1615...</td>\n",
       "    </tr>\n",
       "    <tr>\n",
       "      <th>238</th>\n",
       "      <td>0</td>\n",
       "      <td>https://www.lemonde.fr/idees/article/2021/02/0...</td>\n",
       "      <td>« La suspension des comptes de Donald Trump su...</td>\n",
       "      <td>Chronique. C’est une réaction à courte vue, po...</td>\n",
       "      <td>https://img.lemde.fr/2021/01/09/119/0/3500/175...</td>\n",
       "    </tr>\n",
       "  </tbody>\n",
       "</table>\n",
       "<p>239 rows × 5 columns</p>\n",
       "</div>"
      ],
      "text/plain": [
       "     index                                              liens  \\\n",
       "0        0  https://www.lemonde.fr/international/article/2...   \n",
       "1        0  https://www.lemonde.fr/politique/article/2021/...   \n",
       "2        0  https://www.lemonde.fr/economie/article/2021/0...   \n",
       "3        0  https://www.lemonde.fr/idees/article/2021/02/0...   \n",
       "4        0  https://www.lemonde.fr/economie/article/2021/0...   \n",
       "..     ...                                                ...   \n",
       "234      0  https://www.lemonde.fr/idees/article/2021/02/0...   \n",
       "235      0  https://www.lemonde.fr/sport/article/2021/02/0...   \n",
       "236      0  https://www.lemonde.fr/politique/article/2021/...   \n",
       "237      0  https://www.lemonde.fr/planete/article/2021/01...   \n",
       "238      0  https://www.lemonde.fr/idees/article/2021/02/0...   \n",
       "\n",
       "                                                 title  \\\n",
       "0    En Australie, au moins 71 habitations détruite...   \n",
       "1    Covid-19 : Emmanuel Macron veut rassurer à pro...   \n",
       "2    Chacun peut désormais noter son agence bancair...   \n",
       "3         « Navalny, Blinken, Merkel et le gaz russe »   \n",
       "4    Fin de la précarité pour les femmes de chambre...   \n",
       "..                                                 ...   \n",
       "234  « La France est aujourd’hui un pays de seconde...   \n",
       "235  Football : huit personnes placées en détention...   \n",
       "236  Face aux polémiques, Gérald Darmanin tente d’a...   \n",
       "237  Covid-19 dans le monde : AstraZeneca devrait l...   \n",
       "238  « La suspension des comptes de Donald Trump su...   \n",
       "\n",
       "                                                  text  \\\n",
       "0    Les pompiers affrontent un incendie à Wooroloo...   \n",
       "1    Emmanuel Macron au palais de l’Elysée à Paris,...   \n",
       "2    A Paris. LOIC VENANCE / AFP\\n\\nLa folie de la ...   \n",
       "3    Chronique. En 1987, un jeune et brillant diplô...   \n",
       "4    Une femme de chambre prépare une chambre d’hôt...   \n",
       "..                                                 ...   \n",
       "234  Tribune. Tous les économistes reconnaissent qu...   \n",
       "235  Les services de police chiffrent à trois cents...   \n",
       "236  Gérald Darmanin lors d’une intervention de Jea...   \n",
       "237  Manifestation contre les mesures sanitaires à ...   \n",
       "238  Chronique. C’est une réaction à courte vue, po...   \n",
       "\n",
       "                                                 image  \n",
       "0    https://img.lemde.fr/2021/02/02/249/0/3000/150...  \n",
       "1    https://img.lemde.fr/2021/02/02/0/0/8191/4091/...  \n",
       "2    https://img.lemde.fr/2021/02/03/364/0/4368/218...  \n",
       "3    https://img.lemde.fr/2021/01/26/308/0/3500/175...  \n",
       "4    https://img.lemde.fr/2021/02/03/165/0/6016/300...  \n",
       "..                                                 ...  \n",
       "234  https://img.lemde.fr/2021/01/28/911/0/5625/280...  \n",
       "235  https://img.lemde.fr/2021/01/31/391/0/4692/234...  \n",
       "236  https://img.lemde.fr/2021/01/27/571/0/6848/342...  \n",
       "237  https://img.lemde.fr/2021/01/22/75/0/3236/1615...  \n",
       "238  https://img.lemde.fr/2021/01/09/119/0/3500/175...  \n",
       "\n",
       "[239 rows x 5 columns]"
      ]
     },
     "execution_count": 220,
     "metadata": {},
     "output_type": "execute_result"
    }
   ],
   "source": [
    "df = pd.DataFrame()\n",
    "tmp = scraper(source, df)\n",
    "tmp\n"
   ]
  },
  {
   "cell_type": "code",
   "execution_count": null,
   "metadata": {},
   "outputs": [],
   "source": []
  }
 ],
 "metadata": {
  "kernelspec": {
   "display_name": "Python 3",
   "language": "python",
   "name": "python3"
  },
  "language_info": {
   "codemirror_mode": {
    "name": "ipython",
    "version": 3
   },
   "file_extension": ".py",
   "mimetype": "text/x-python",
   "name": "python",
   "nbconvert_exporter": "python",
   "pygments_lexer": "ipython3",
   "version": "3.8.1"
  }
 },
 "nbformat": 4,
 "nbformat_minor": 4
}